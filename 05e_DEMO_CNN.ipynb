{
 "cells": [
  {
   "cell_type": "markdown",
   "metadata": {
    "run_control": {
     "marked": true
    }
   },
   "source": [
    "# Machine Learning Foundation\n",
    "\n",
    "## Course 5, Part e: CNN DEMO"
   ]
  },
  {
   "cell_type": "markdown",
   "metadata": {},
   "source": [
    "## Building a CNN to classify images in the CIFAR-10 Dataset\n",
    "\n",
    "We will work with the CIFAR-10 Dataset.  This is a well-known dataset for image classification, which consists of 60000 32x32 color images in 10 classes, with 6000 images per class. There are 50000 training images and 10000 test images.\n",
    "\n",
    "The 10 classes are:\n",
    "\n",
    "<ol start=\"0\">\n",
    "<li> airplane\n",
    "<li>  automobile\n",
    "<li> bird\n",
    "<li>  cat\n",
    "<li> deer\n",
    "<li> dog\n",
    "<li>  frog\n",
    "<li>  horse\n",
    "<li>  ship\n",
    "<li>  truck\n",
    "</ol>\n",
    "\n",
    "For details about CIFAR-10 see:\n",
    "https://www.cs.toronto.edu/~kriz/cifar.html\n",
    "\n",
    "For a compilation of published performance results on CIFAR 10, see:\n",
    "http://rodrigob.github.io/are_we_there_yet/build/classification_datasets_results.html\n",
    "\n",
    "---\n",
    "\n",
    "### Building Convolutional Neural Nets\n",
    "\n",
    "In this exercise we will build and train our first convolutional neural networks.  In the first part, we walk through the different layers and how they are configured.  In the second part, you will build your own model, train it, and compare the performance."
   ]
  },
  {
   "cell_type": "code",
   "execution_count": 1,
   "metadata": {},
   "outputs": [],
   "source": [
    "import keras\n",
    "#from tensorflow.keras.datasets import cifar10\n",
    "#from tensorflow.keras.preprocessing.image import ImageDataGenerator\n",
    "#from tensorflow.keras.models import Sequential\n",
    "#from tensorflow.keras.layers import Dense, Dropout, Activation, Flatten\n",
    "#from tensorflow.keras.layers import Conv2D, MaxPooling2D\n",
    "from keras.datasets import cifar10\n",
    "from keras.preprocessing.image import ImageDataGenerator\n",
    "from keras.models import Sequential\n",
    "from keras.layers import Dense, Dropout, Activation, Flatten\n",
    "from keras.layers import Conv2D, MaxPooling2D\n",
    "import matplotlib.pyplot as plt"
   ]
  },
  {
   "cell_type": "code",
   "execution_count": 2,
   "metadata": {},
   "outputs": [
    {
     "output_type": "stream",
     "name": "stdout",
     "text": [
      "Downloading data from https://www.cs.toronto.edu/~kriz/cifar-10-python.tar.gz\n",
      "170500096/170498071 [==============================] - 146s 1us/step\n",
      "x_train shape: (50000, 32, 32, 3)\n",
      "50000 train samples\n",
      "10000 test samples\n"
     ]
    }
   ],
   "source": [
    "# The data, shuffled and split between train and test sets:\n",
    "(x_train, y_train), (x_test, y_test) = cifar10.load_data()\n",
    "print('x_train shape:', x_train.shape)\n",
    "print(x_train.shape[0], 'train samples')\n",
    "print(x_test.shape[0], 'test samples')"
   ]
  },
  {
   "cell_type": "code",
   "execution_count": 3,
   "metadata": {},
   "outputs": [
    {
     "output_type": "execute_result",
     "data": {
      "text/plain": [
       "(32, 32, 3)"
      ]
     },
     "metadata": {},
     "execution_count": 3
    }
   ],
   "source": [
    "## Each image is a 32 x 32 x 3 numpy array\n",
    "x_train[444].shape"
   ]
  },
  {
   "cell_type": "code",
   "execution_count": 4,
   "metadata": {},
   "outputs": [
    {
     "output_type": "stream",
     "name": "stdout",
     "text": [
      "[9]\n"
     ]
    },
    {
     "output_type": "display_data",
     "data": {
      "text/plain": "<Figure size 432x288 with 1 Axes>",
      "image/svg+xml": "<?xml version=\"1.0\" encoding=\"utf-8\" standalone=\"no\"?>\n<!DOCTYPE svg PUBLIC \"-//W3C//DTD SVG 1.1//EN\"\n  \"http://www.w3.org/Graphics/SVG/1.1/DTD/svg11.dtd\">\n<!-- Created with matplotlib (https://matplotlib.org/) -->\n<svg height=\"248.919844pt\" version=\"1.1\" viewBox=\"0 0 251.565 248.919844\" width=\"251.565pt\" xmlns=\"http://www.w3.org/2000/svg\" xmlns:xlink=\"http://www.w3.org/1999/xlink\">\n <metadata>\n  <rdf:RDF xmlns:cc=\"http://creativecommons.org/ns#\" xmlns:dc=\"http://purl.org/dc/elements/1.1/\" xmlns:rdf=\"http://www.w3.org/1999/02/22-rdf-syntax-ns#\">\n   <cc:Work>\n    <dc:type rdf:resource=\"http://purl.org/dc/dcmitype/StillImage\"/>\n    <dc:date>2021-03-13T21:46:23.051240</dc:date>\n    <dc:format>image/svg+xml</dc:format>\n    <dc:creator>\n     <cc:Agent>\n      <dc:title>Matplotlib v3.3.2, https://matplotlib.org/</dc:title>\n     </cc:Agent>\n    </dc:creator>\n   </cc:Work>\n  </rdf:RDF>\n </metadata>\n <defs>\n  <style type=\"text/css\">*{stroke-linecap:butt;stroke-linejoin:round;}</style>\n </defs>\n <g id=\"figure_1\">\n  <g id=\"patch_1\">\n   <path d=\"M 0 248.919844 \nL 251.565 248.919844 \nL 251.565 0 \nL 0 0 \nz\n\" style=\"fill:none;\"/>\n  </g>\n  <g id=\"axes_1\">\n   <g id=\"patch_2\">\n    <path d=\"M 26.925 225.041719 \nL 244.365 225.041719 \nL 244.365 7.601719 \nL 26.925 7.601719 \nz\n\" style=\"fill:#ffffff;\"/>\n   </g>\n   <g clip-path=\"url(#p44ac79c137)\">\n    <image height=\"218\" id=\"image63a781a3cb\" transform=\"scale(1 -1)translate(0 -218)\" width=\"218\" x=\"26.925\" xlink:href=\"data:image/png;base64,\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\" y=\"-7.041719\"/>\n   </g>\n   <g id=\"matplotlib.axis_1\">\n    <g id=\"xtick_1\">\n     <g id=\"line2d_1\">\n      <defs>\n       <path d=\"M 0 0 \nL 0 3.5 \n\" id=\"m0d58838e2f\" style=\"stroke:#000000;stroke-width:0.8;\"/>\n      </defs>\n      <g>\n       <use style=\"stroke:#000000;stroke-width:0.8;\" x=\"30.3225\" xlink:href=\"#m0d58838e2f\" y=\"225.041719\"/>\n      </g>\n     </g>\n     <g id=\"text_1\">\n      <!-- 0 -->\n      <g transform=\"translate(27.14125 239.640156)scale(0.1 -0.1)\">\n       <defs>\n        <path d=\"M 31.78125 66.40625 \nQ 24.171875 66.40625 20.328125 58.90625 \nQ 16.5 51.421875 16.5 36.375 \nQ 16.5 21.390625 20.328125 13.890625 \nQ 24.171875 6.390625 31.78125 6.390625 \nQ 39.453125 6.390625 43.28125 13.890625 \nQ 47.125 21.390625 47.125 36.375 \nQ 47.125 51.421875 43.28125 58.90625 \nQ 39.453125 66.40625 31.78125 66.40625 \nz\nM 31.78125 74.21875 \nQ 44.046875 74.21875 50.515625 64.515625 \nQ 56.984375 54.828125 56.984375 36.375 \nQ 56.984375 17.96875 50.515625 8.265625 \nQ 44.046875 -1.421875 31.78125 -1.421875 \nQ 19.53125 -1.421875 13.0625 8.265625 \nQ 6.59375 17.96875 6.59375 36.375 \nQ 6.59375 54.828125 13.0625 64.515625 \nQ 19.53125 74.21875 31.78125 74.21875 \nz\n\" id=\"DejaVuSans-48\"/>\n       </defs>\n       <use xlink:href=\"#DejaVuSans-48\"/>\n      </g>\n     </g>\n    </g>\n    <g id=\"xtick_2\">\n     <g id=\"line2d_2\">\n      <g>\n       <use style=\"stroke:#000000;stroke-width:0.8;\" x=\"64.2975\" xlink:href=\"#m0d58838e2f\" y=\"225.041719\"/>\n      </g>\n     </g>\n     <g id=\"text_2\">\n      <!-- 5 -->\n      <g transform=\"translate(61.11625 239.640156)scale(0.1 -0.1)\">\n       <defs>\n        <path d=\"M 10.796875 72.90625 \nL 49.515625 72.90625 \nL 49.515625 64.59375 \nL 19.828125 64.59375 \nL 19.828125 46.734375 \nQ 21.96875 47.46875 24.109375 47.828125 \nQ 26.265625 48.1875 28.421875 48.1875 \nQ 40.625 48.1875 47.75 41.5 \nQ 54.890625 34.8125 54.890625 23.390625 \nQ 54.890625 11.625 47.5625 5.09375 \nQ 40.234375 -1.421875 26.90625 -1.421875 \nQ 22.3125 -1.421875 17.546875 -0.640625 \nQ 12.796875 0.140625 7.71875 1.703125 \nL 7.71875 11.625 \nQ 12.109375 9.234375 16.796875 8.0625 \nQ 21.484375 6.890625 26.703125 6.890625 \nQ 35.15625 6.890625 40.078125 11.328125 \nQ 45.015625 15.765625 45.015625 23.390625 \nQ 45.015625 31 40.078125 35.4375 \nQ 35.15625 39.890625 26.703125 39.890625 \nQ 22.75 39.890625 18.8125 39.015625 \nQ 14.890625 38.140625 10.796875 36.28125 \nz\n\" id=\"DejaVuSans-53\"/>\n       </defs>\n       <use xlink:href=\"#DejaVuSans-53\"/>\n      </g>\n     </g>\n    </g>\n    <g id=\"xtick_3\">\n     <g id=\"line2d_3\">\n      <g>\n       <use style=\"stroke:#000000;stroke-width:0.8;\" x=\"98.2725\" xlink:href=\"#m0d58838e2f\" y=\"225.041719\"/>\n      </g>\n     </g>\n     <g id=\"text_3\">\n      <!-- 10 -->\n      <g transform=\"translate(91.91 239.640156)scale(0.1 -0.1)\">\n       <defs>\n        <path d=\"M 12.40625 8.296875 \nL 28.515625 8.296875 \nL 28.515625 63.921875 \nL 10.984375 60.40625 \nL 10.984375 69.390625 \nL 28.421875 72.90625 \nL 38.28125 72.90625 \nL 38.28125 8.296875 \nL 54.390625 8.296875 \nL 54.390625 0 \nL 12.40625 0 \nz\n\" id=\"DejaVuSans-49\"/>\n       </defs>\n       <use xlink:href=\"#DejaVuSans-49\"/>\n       <use x=\"63.623047\" xlink:href=\"#DejaVuSans-48\"/>\n      </g>\n     </g>\n    </g>\n    <g id=\"xtick_4\">\n     <g id=\"line2d_4\">\n      <g>\n       <use style=\"stroke:#000000;stroke-width:0.8;\" x=\"132.2475\" xlink:href=\"#m0d58838e2f\" y=\"225.041719\"/>\n      </g>\n     </g>\n     <g id=\"text_4\">\n      <!-- 15 -->\n      <g transform=\"translate(125.885 239.640156)scale(0.1 -0.1)\">\n       <use xlink:href=\"#DejaVuSans-49\"/>\n       <use x=\"63.623047\" xlink:href=\"#DejaVuSans-53\"/>\n      </g>\n     </g>\n    </g>\n    <g id=\"xtick_5\">\n     <g id=\"line2d_5\">\n      <g>\n       <use style=\"stroke:#000000;stroke-width:0.8;\" x=\"166.2225\" xlink:href=\"#m0d58838e2f\" y=\"225.041719\"/>\n      </g>\n     </g>\n     <g id=\"text_5\">\n      <!-- 20 -->\n      <g transform=\"translate(159.86 239.640156)scale(0.1 -0.1)\">\n       <defs>\n        <path d=\"M 19.1875 8.296875 \nL 53.609375 8.296875 \nL 53.609375 0 \nL 7.328125 0 \nL 7.328125 8.296875 \nQ 12.9375 14.109375 22.625 23.890625 \nQ 32.328125 33.6875 34.8125 36.53125 \nQ 39.546875 41.84375 41.421875 45.53125 \nQ 43.3125 49.21875 43.3125 52.78125 \nQ 43.3125 58.59375 39.234375 62.25 \nQ 35.15625 65.921875 28.609375 65.921875 \nQ 23.96875 65.921875 18.8125 64.3125 \nQ 13.671875 62.703125 7.8125 59.421875 \nL 7.8125 69.390625 \nQ 13.765625 71.78125 18.9375 73 \nQ 24.125 74.21875 28.421875 74.21875 \nQ 39.75 74.21875 46.484375 68.546875 \nQ 53.21875 62.890625 53.21875 53.421875 \nQ 53.21875 48.921875 51.53125 44.890625 \nQ 49.859375 40.875 45.40625 35.40625 \nQ 44.1875 33.984375 37.640625 27.21875 \nQ 31.109375 20.453125 19.1875 8.296875 \nz\n\" id=\"DejaVuSans-50\"/>\n       </defs>\n       <use xlink:href=\"#DejaVuSans-50\"/>\n       <use x=\"63.623047\" xlink:href=\"#DejaVuSans-48\"/>\n      </g>\n     </g>\n    </g>\n    <g id=\"xtick_6\">\n     <g id=\"line2d_6\">\n      <g>\n       <use style=\"stroke:#000000;stroke-width:0.8;\" x=\"200.1975\" xlink:href=\"#m0d58838e2f\" y=\"225.041719\"/>\n      </g>\n     </g>\n     <g id=\"text_6\">\n      <!-- 25 -->\n      <g transform=\"translate(193.835 239.640156)scale(0.1 -0.1)\">\n       <use xlink:href=\"#DejaVuSans-50\"/>\n       <use x=\"63.623047\" xlink:href=\"#DejaVuSans-53\"/>\n      </g>\n     </g>\n    </g>\n    <g id=\"xtick_7\">\n     <g id=\"line2d_7\">\n      <g>\n       <use style=\"stroke:#000000;stroke-width:0.8;\" x=\"234.1725\" xlink:href=\"#m0d58838e2f\" y=\"225.041719\"/>\n      </g>\n     </g>\n     <g id=\"text_7\">\n      <!-- 30 -->\n      <g transform=\"translate(227.81 239.640156)scale(0.1 -0.1)\">\n       <defs>\n        <path d=\"M 40.578125 39.3125 \nQ 47.65625 37.796875 51.625 33 \nQ 55.609375 28.21875 55.609375 21.1875 \nQ 55.609375 10.40625 48.1875 4.484375 \nQ 40.765625 -1.421875 27.09375 -1.421875 \nQ 22.515625 -1.421875 17.65625 -0.515625 \nQ 12.796875 0.390625 7.625 2.203125 \nL 7.625 11.71875 \nQ 11.71875 9.328125 16.59375 8.109375 \nQ 21.484375 6.890625 26.8125 6.890625 \nQ 36.078125 6.890625 40.9375 10.546875 \nQ 45.796875 14.203125 45.796875 21.1875 \nQ 45.796875 27.640625 41.28125 31.265625 \nQ 36.765625 34.90625 28.71875 34.90625 \nL 20.21875 34.90625 \nL 20.21875 43.015625 \nL 29.109375 43.015625 \nQ 36.375 43.015625 40.234375 45.921875 \nQ 44.09375 48.828125 44.09375 54.296875 \nQ 44.09375 59.90625 40.109375 62.90625 \nQ 36.140625 65.921875 28.71875 65.921875 \nQ 24.65625 65.921875 20.015625 65.03125 \nQ 15.375 64.15625 9.8125 62.3125 \nL 9.8125 71.09375 \nQ 15.4375 72.65625 20.34375 73.4375 \nQ 25.25 74.21875 29.59375 74.21875 \nQ 40.828125 74.21875 47.359375 69.109375 \nQ 53.90625 64.015625 53.90625 55.328125 \nQ 53.90625 49.265625 50.4375 45.09375 \nQ 46.96875 40.921875 40.578125 39.3125 \nz\n\" id=\"DejaVuSans-51\"/>\n       </defs>\n       <use xlink:href=\"#DejaVuSans-51\"/>\n       <use x=\"63.623047\" xlink:href=\"#DejaVuSans-48\"/>\n      </g>\n     </g>\n    </g>\n   </g>\n   <g id=\"matplotlib.axis_2\">\n    <g id=\"ytick_1\">\n     <g id=\"line2d_8\">\n      <defs>\n       <path d=\"M 0 0 \nL -3.5 0 \n\" id=\"mba6ce49c80\" style=\"stroke:#000000;stroke-width:0.8;\"/>\n      </defs>\n      <g>\n       <use style=\"stroke:#000000;stroke-width:0.8;\" x=\"26.925\" xlink:href=\"#mba6ce49c80\" y=\"10.999219\"/>\n      </g>\n     </g>\n     <g id=\"text_8\">\n      <!-- 0 -->\n      <g transform=\"translate(13.5625 14.798437)scale(0.1 -0.1)\">\n       <use xlink:href=\"#DejaVuSans-48\"/>\n      </g>\n     </g>\n    </g>\n    <g id=\"ytick_2\">\n     <g id=\"line2d_9\">\n      <g>\n       <use style=\"stroke:#000000;stroke-width:0.8;\" x=\"26.925\" xlink:href=\"#mba6ce49c80\" y=\"44.974219\"/>\n      </g>\n     </g>\n     <g id=\"text_9\">\n      <!-- 5 -->\n      <g transform=\"translate(13.5625 48.773437)scale(0.1 -0.1)\">\n       <use xlink:href=\"#DejaVuSans-53\"/>\n      </g>\n     </g>\n    </g>\n    <g id=\"ytick_3\">\n     <g id=\"line2d_10\">\n      <g>\n       <use style=\"stroke:#000000;stroke-width:0.8;\" x=\"26.925\" xlink:href=\"#mba6ce49c80\" y=\"78.949219\"/>\n      </g>\n     </g>\n     <g id=\"text_10\">\n      <!-- 10 -->\n      <g transform=\"translate(7.2 82.748437)scale(0.1 -0.1)\">\n       <use xlink:href=\"#DejaVuSans-49\"/>\n       <use x=\"63.623047\" xlink:href=\"#DejaVuSans-48\"/>\n      </g>\n     </g>\n    </g>\n    <g id=\"ytick_4\">\n     <g id=\"line2d_11\">\n      <g>\n       <use style=\"stroke:#000000;stroke-width:0.8;\" x=\"26.925\" xlink:href=\"#mba6ce49c80\" y=\"112.924219\"/>\n      </g>\n     </g>\n     <g id=\"text_11\">\n      <!-- 15 -->\n      <g transform=\"translate(7.2 116.723437)scale(0.1 -0.1)\">\n       <use xlink:href=\"#DejaVuSans-49\"/>\n       <use x=\"63.623047\" xlink:href=\"#DejaVuSans-53\"/>\n      </g>\n     </g>\n    </g>\n    <g id=\"ytick_5\">\n     <g id=\"line2d_12\">\n      <g>\n       <use style=\"stroke:#000000;stroke-width:0.8;\" x=\"26.925\" xlink:href=\"#mba6ce49c80\" y=\"146.899219\"/>\n      </g>\n     </g>\n     <g id=\"text_12\">\n      <!-- 20 -->\n      <g transform=\"translate(7.2 150.698437)scale(0.1 -0.1)\">\n       <use xlink:href=\"#DejaVuSans-50\"/>\n       <use x=\"63.623047\" xlink:href=\"#DejaVuSans-48\"/>\n      </g>\n     </g>\n    </g>\n    <g id=\"ytick_6\">\n     <g id=\"line2d_13\">\n      <g>\n       <use style=\"stroke:#000000;stroke-width:0.8;\" x=\"26.925\" xlink:href=\"#mba6ce49c80\" y=\"180.874219\"/>\n      </g>\n     </g>\n     <g id=\"text_13\">\n      <!-- 25 -->\n      <g transform=\"translate(7.2 184.673437)scale(0.1 -0.1)\">\n       <use xlink:href=\"#DejaVuSans-50\"/>\n       <use x=\"63.623047\" xlink:href=\"#DejaVuSans-53\"/>\n      </g>\n     </g>\n    </g>\n    <g id=\"ytick_7\">\n     <g id=\"line2d_14\">\n      <g>\n       <use style=\"stroke:#000000;stroke-width:0.8;\" x=\"26.925\" xlink:href=\"#mba6ce49c80\" y=\"214.849219\"/>\n      </g>\n     </g>\n     <g id=\"text_14\">\n      <!-- 30 -->\n      <g transform=\"translate(7.2 218.648437)scale(0.1 -0.1)\">\n       <use xlink:href=\"#DejaVuSans-51\"/>\n       <use x=\"63.623047\" xlink:href=\"#DejaVuSans-48\"/>\n      </g>\n     </g>\n    </g>\n   </g>\n   <g id=\"patch_3\">\n    <path d=\"M 26.925 225.041719 \nL 26.925 7.601719 \n\" style=\"fill:none;stroke:#000000;stroke-linecap:square;stroke-linejoin:miter;stroke-width:0.8;\"/>\n   </g>\n   <g id=\"patch_4\">\n    <path d=\"M 244.365 225.041719 \nL 244.365 7.601719 \n\" style=\"fill:none;stroke:#000000;stroke-linecap:square;stroke-linejoin:miter;stroke-width:0.8;\"/>\n   </g>\n   <g id=\"patch_5\">\n    <path d=\"M 26.925 225.041719 \nL 244.365 225.041719 \n\" style=\"fill:none;stroke:#000000;stroke-linecap:square;stroke-linejoin:miter;stroke-width:0.8;\"/>\n   </g>\n   <g id=\"patch_6\">\n    <path d=\"M 26.925 7.601719 \nL 244.365 7.601719 \n\" style=\"fill:none;stroke:#000000;stroke-linecap:square;stroke-linejoin:miter;stroke-width:0.8;\"/>\n   </g>\n  </g>\n </g>\n <defs>\n  <clipPath id=\"p44ac79c137\">\n   <rect height=\"217.44\" width=\"217.44\" x=\"26.925\" y=\"7.601719\"/>\n  </clipPath>\n </defs>\n</svg>\n",
      "image/png": "[encoded data removed]"
     },
     "metadata": {
      "needs_background": "light"
     }
    }
   ],
   "source": [
    "## Let's look at one of the images\n",
    "\n",
    "print(y_train[444])\n",
    "plt.imshow(x_train[444]);"
   ]
  },
  {
   "cell_type": "code",
   "execution_count": 5,
   "metadata": {},
   "outputs": [],
   "source": [
    "num_classes = 10\n",
    "\n",
    "y_train = keras.utils.to_categorical(y_train, num_classes)\n",
    "y_test = keras.utils.to_categorical(y_test, num_classes)"
   ]
  },
  {
   "cell_type": "code",
   "execution_count": 6,
   "metadata": {},
   "outputs": [
    {
     "data": {
      "text/plain": [
       "array([0., 0., 0., 0., 0., 0., 0., 0., 0., 1.], dtype=float32)"
      ]
     },
     "execution_count": 6,
     "metadata": {},
     "output_type": "execute_result"
    }
   ],
   "source": [
    "# now instead of classes described by an integer between 0-9 we have a vector with a 1 in the (Pythonic) 9th position\n",
    "y_train[444]"
   ]
  },
  {
   "cell_type": "code",
   "execution_count": 6,
   "metadata": {},
   "outputs": [],
   "source": [
    "# As before, let's make everything float and scale\n",
    "x_train = x_train.astype('float32')\n",
    "x_test = x_test.astype('float32')\n",
    "x_train /= 255\n",
    "x_test /= 255"
   ]
  },
  {
   "cell_type": "markdown",
   "metadata": {},
   "source": [
    "## Keras Layers for CNNs\n",
    "- Previously we built Neural Networks using primarily the Dense, Activation and Dropout Layers.\n",
    "\n",
    "- Here we will describe how to use some of the CNN-specific layers provided by Keras\n",
    "\n",
    "### Conv2D\n",
    "\n",
    "```python\n",
    "keras.layers.convolutional.Conv2D(filters, kernel_size, strides=(1, 1), padding='valid', data_format=None, dilation_rate=(1, 1), activation=None, use_bias=True, kernel_initializer='glorot_uniform', bias_initializer='zeros', kernel_regularizer=None, bias_regularizer=None, activity_regularizer=None, kernel_constraint=None, bias_constraint=None, **kwargs)\n",
    "```\n",
    "\n",
    "A few parameters explained:\n",
    "- `filters`: the number of filter used per location.  In other words, the depth of the output.\n",
    "- `kernel_size`: an (x,y) tuple giving the height and width of the kernel to be used\n",
    "- `strides`: and (x,y) tuple giving the stride in each dimension.  Default is `(1,1)`\n",
    "- `input_shape`: required only for the first layer\n",
    "\n",
    "Note, the size of the output will be determined by the kernel_size, strides\n",
    "\n",
    "### MaxPooling2D\n",
    "`keras.layers.pooling.MaxPooling2D(pool_size=(2, 2), strides=None, padding='valid', data_format=None)`\n",
    "\n",
    "- `pool_size`: the (x,y) size of the grid to be pooled.\n",
    "- `strides`: Assumed to be the `pool_size` unless otherwise specified\n",
    "\n",
    "### Flatten\n",
    "Turns its input into a one-dimensional vector (per instance).  Usually used when transitioning between convolutional layers and fully connected layers.\n",
    "\n",
    "---\n",
    "\n",
    "## First CNN\n",
    "Below we will build our first CNN.  For demonstration purposes (so that it will train quickly) it is not very deep and has relatively few parameters.  We use strides of 2 in the first two convolutional layers which quickly reduces the dimensions of the output.  After a MaxPooling layer, we flatten, and then have a single fully connected layer before our final classification layer."
   ]
  },
  {
   "cell_type": "code",
   "execution_count": 7,
   "metadata": {},
   "outputs": [
    {
     "output_type": "stream",
     "name": "stdout",
     "text": [
      "Model: \"sequential\"\n_________________________________________________________________\nLayer (type)                 Output Shape              Param #   \n=================================================================\nconv2d (Conv2D)              (None, 16, 16, 32)        2432      \n_________________________________________________________________\nactivation (Activation)      (None, 16, 16, 32)        0         \n_________________________________________________________________\nconv2d_1 (Conv2D)            (None, 6, 6, 32)          25632     \n_________________________________________________________________\nactivation_1 (Activation)    (None, 6, 6, 32)          0         \n_________________________________________________________________\nmax_pooling2d (MaxPooling2D) (None, 3, 3, 32)          0         \n_________________________________________________________________\ndropout (Dropout)            (None, 3, 3, 32)          0         \n_________________________________________________________________\nflatten (Flatten)            (None, 288)               0         \n_________________________________________________________________\ndense (Dense)                (None, 512)               147968    \n_________________________________________________________________\nactivation_2 (Activation)    (None, 512)               0         \n_________________________________________________________________\ndropout_1 (Dropout)          (None, 512)               0         \n_________________________________________________________________\ndense_1 (Dense)              (None, 10)                5130      \n_________________________________________________________________\nactivation_3 (Activation)    (None, 10)                0         \n=================================================================\nTotal params: 181,162\nTrainable params: 181,162\nNon-trainable params: 0\n_________________________________________________________________\n"
     ]
    }
   ],
   "source": [
    "# Let's build a CNN using Keras' Sequential capabilities\n",
    "\n",
    "model_1 = Sequential()\n",
    "\n",
    "\n",
    "## 5x5 convolution with 2x2 stride and 32 filters\n",
    "model_1.add(Conv2D(32, (5, 5), strides = (2,2), padding='same',\n",
    "                 input_shape=x_train.shape[1:]))\n",
    "model_1.add(Activation('relu'))\n",
    "\n",
    "## Another 5x5 convolution with 2x2 stride and 32 filters\n",
    "model_1.add(Conv2D(32, (5, 5), strides = (2,2)))\n",
    "model_1.add(Activation('relu'))\n",
    "\n",
    "## 2x2 max pooling reduces to 3 x 3 x 32\n",
    "model_1.add(MaxPooling2D(pool_size=(2, 2)))\n",
    "model_1.add(Dropout(0.25))\n",
    "\n",
    "## Flatten turns 3x3x32 into 288x1\n",
    "model_1.add(Flatten())\n",
    "model_1.add(Dense(512))\n",
    "model_1.add(Activation('relu'))\n",
    "model_1.add(Dropout(0.5))\n",
    "model_1.add(Dense(num_classes))\n",
    "model_1.add(Activation('softmax'))\n",
    "\n",
    "model_1.summary()"
   ]
  },
  {
   "cell_type": "markdown",
   "metadata": {},
   "source": [
    "We still have 181K parameters, even though this is a \"small\" model.\n"
   ]
  },
  {
   "cell_type": "code",
   "execution_count": 9,
   "metadata": {},
   "outputs": [
    {
     "name": "stdout",
     "output_type": "stream",
     "text": [
      "Train on 50000 samples, validate on 10000 samples\n",
      "Epoch 1/15\n",
      "50000/50000 [==============================] - 46s 929us/step - loss: 1.7298 - accuracy: 0.3685 - val_loss: 1.4571 - val_accuracy: 0.4693\n",
      "Epoch 2/15\n",
      "50000/50000 [==============================] - 45s 910us/step - loss: 1.4334 - accuracy: 0.4829 - val_loss: 1.2668 - val_accuracy: 0.5517\n",
      "Epoch 3/15\n",
      "50000/50000 [==============================] - 43s 854us/step - loss: 1.3231 - accuracy: 0.5265 - val_loss: 1.2413 - val_accuracy: 0.5481\n",
      "Epoch 4/15\n",
      "50000/50000 [==============================] - 55s 1ms/step - loss: 1.2621 - accuracy: 0.5500 - val_loss: 1.1371 - val_accuracy: 0.6016\n",
      "Epoch 5/15\n",
      "50000/50000 [==============================] - 55s 1ms/step - loss: 1.2135 - accuracy: 0.5686 - val_loss: 1.1789 - val_accuracy: 0.5756\n",
      "Epoch 6/15\n",
      "50000/50000 [==============================] - 55s 1ms/step - loss: 1.1759 - accuracy: 0.5885 - val_loss: 1.1619 - val_accuracy: 0.5920\n",
      "Epoch 7/15\n",
      "50000/50000 [==============================] - 55s 1ms/step - loss: 1.1512 - accuracy: 0.5959 - val_loss: 1.1654 - val_accuracy: 0.5988\n",
      "Epoch 8/15\n",
      "50000/50000 [==============================] - 56s 1ms/step - loss: 1.1242 - accuracy: 0.6061 - val_loss: 1.0787 - val_accuracy: 0.6214\n",
      "Epoch 9/15\n",
      "50000/50000 [==============================] - 53s 1ms/step - loss: 1.1117 - accuracy: 0.6137 - val_loss: 1.0348 - val_accuracy: 0.6385\n",
      "Epoch 10/15\n",
      "50000/50000 [==============================] - 54s 1ms/step - loss: 1.1019 - accuracy: 0.6208 - val_loss: 1.0614 - val_accuracy: 0.6337\n",
      "Epoch 11/15\n",
      "50000/50000 [==============================] - 26s 528us/step - loss: 1.0893 - accuracy: 0.6272 - val_loss: 1.0338 - val_accuracy: 0.6464\n",
      "Epoch 12/15\n",
      "50000/50000 [==============================] - 30s 599us/step - loss: 1.0878 - accuracy: 0.6248 - val_loss: 1.0257 - val_accuracy: 0.6477\n",
      "Epoch 13/15\n",
      "50000/50000 [==============================] - 33s 654us/step - loss: 1.0753 - accuracy: 0.6307 - val_loss: 1.0529 - val_accuracy: 0.6442\n",
      "Epoch 14/15\n",
      "50000/50000 [==============================] - 32s 640us/step - loss: 1.0759 - accuracy: 0.6321 - val_loss: 1.0559 - val_accuracy: 0.6347\n",
      "Epoch 15/15\n",
      "50000/50000 [==============================] - 35s 699us/step - loss: 1.0708 - accuracy: 0.6344 - val_loss: 1.0694 - val_accuracy: 0.6426\n"
     ]
    },
    {
     "data": {
      "text/plain": [
       "<keras.callbacks.callbacks.History at 0x20b643c7408>"
      ]
     },
     "execution_count": 9,
     "metadata": {},
     "output_type": "execute_result"
    }
   ],
   "source": [
    "batch_size = 32\n",
    "\n",
    "# initiate RMSprop optimizer\n",
    "opt = keras.optimizers.RMSprop(lr=0.0005, decay=1e-6)\n",
    "\n",
    "# Let's train the model using RMSprop\n",
    "model_1.compile(loss='categorical_crossentropy',\n",
    "              optimizer=opt,\n",
    "              metrics=['accuracy'])\n",
    "\n",
    "model_1.fit(x_train, y_train,\n",
    "              batch_size=batch_size,\n",
    "              epochs=15,\n",
    "              validation_data=(x_test, y_test),\n",
    "              shuffle=True)"
   ]
  },
  {
   "cell_type": "markdown",
   "metadata": {},
   "source": [
    "### Exercise\n",
    "Our previous model had the structure:\n",
    "\n",
    "Conv -> Conv -> MaxPool -> (Flatten) -> Dense -> Final Classification\n",
    "\n",
    "(with appropriate activation functions and dropouts)\n",
    "\n",
    "1. Build a more complicated model with the following pattern:\n",
    "- Conv -> Conv -> MaxPool -> Conv -> Conv -> MaxPool -> (Flatten) -> Dense -> Final Classification\n",
    "\n",
    "- Use strides of 1 for all convolutional layers.\n",
    "\n",
    "2. How many parameters does your model have?  How does that compare to the previous model?\n",
    "\n",
    "3. Train it for 5 epochs.  What do you notice about the training time, loss and accuracy numbers (on both the training and validation sets)?\n",
    "\n",
    "5. Try different structures and run times, and see how accurate your model can be.\n"
   ]
  },
  {
   "cell_type": "code",
   "execution_count": 10,
   "metadata": {},
   "outputs": [],
   "source": [
    "# Let's build a CNN using Keras' Sequential capabilities\n",
    "\n",
    "model_2 = Sequential()\n",
    "\n",
    "model_2.add(Conv2D(32, (3, 3), padding='same',\n",
    "                 input_shape=x_train.shape[1:]))\n",
    "model_2.add(Activation('relu'))\n",
    "model_2.add(Conv2D(32, (3, 3)))\n",
    "model_2.add(Activation('relu'))\n",
    "model_2.add(MaxPooling2D(pool_size=(2, 2)))\n",
    "model_2.add(Dropout(0.25))\n",
    "\n",
    "model_2.add(Conv2D(64, (3, 3), padding='same'))\n",
    "model_2.add(Activation('relu'))\n",
    "model_2.add(Conv2D(64, (3, 3)))\n",
    "model_2.add(Activation('relu'))\n",
    "model_2.add(MaxPooling2D(pool_size=(2, 2)))\n",
    "model_2.add(Dropout(0.25))\n",
    "\n",
    "model_2.add(Flatten())\n",
    "model_2.add(Dense(512))\n",
    "model_2.add(Activation('relu'))\n",
    "model_2.add(Dropout(0.5))\n",
    "model_2.add(Dense(num_classes))\n",
    "model_2.add(Activation('softmax'))"
   ]
  },
  {
   "cell_type": "code",
   "execution_count": 11,
   "metadata": {},
   "outputs": [
    {
     "name": "stdout",
     "output_type": "stream",
     "text": [
      "Model: \"sequential_2\"\n",
      "_________________________________________________________________\n",
      "Layer (type)                 Output Shape              Param #   \n",
      "=================================================================\n",
      "conv2d_3 (Conv2D)            (None, 32, 32, 32)        896       \n",
      "_________________________________________________________________\n",
      "activation_5 (Activation)    (None, 32, 32, 32)        0         \n",
      "_________________________________________________________________\n",
      "conv2d_4 (Conv2D)            (None, 30, 30, 32)        9248      \n",
      "_________________________________________________________________\n",
      "activation_6 (Activation)    (None, 30, 30, 32)        0         \n",
      "_________________________________________________________________\n",
      "max_pooling2d_2 (MaxPooling2 (None, 15, 15, 32)        0         \n",
      "_________________________________________________________________\n",
      "dropout_3 (Dropout)          (None, 15, 15, 32)        0         \n",
      "_________________________________________________________________\n",
      "conv2d_5 (Conv2D)            (None, 15, 15, 64)        18496     \n",
      "_________________________________________________________________\n",
      "activation_7 (Activation)    (None, 15, 15, 64)        0         \n",
      "_________________________________________________________________\n",
      "conv2d_6 (Conv2D)            (None, 13, 13, 64)        36928     \n",
      "_________________________________________________________________\n",
      "activation_8 (Activation)    (None, 13, 13, 64)        0         \n",
      "_________________________________________________________________\n",
      "max_pooling2d_3 (MaxPooling2 (None, 6, 6, 64)          0         \n",
      "_________________________________________________________________\n",
      "dropout_4 (Dropout)          (None, 6, 6, 64)          0         \n",
      "_________________________________________________________________\n",
      "flatten_2 (Flatten)          (None, 2304)              0         \n",
      "_________________________________________________________________\n",
      "dense_3 (Dense)              (None, 512)               1180160   \n",
      "_________________________________________________________________\n",
      "activation_9 (Activation)    (None, 512)               0         \n",
      "_________________________________________________________________\n",
      "dropout_5 (Dropout)          (None, 512)               0         \n",
      "_________________________________________________________________\n",
      "dense_4 (Dense)              (None, 10)                5130      \n",
      "_________________________________________________________________\n",
      "activation_10 (Activation)   (None, 10)                0         \n",
      "=================================================================\n",
      "Total params: 1,250,858\n",
      "Trainable params: 1,250,858\n",
      "Non-trainable params: 0\n",
      "_________________________________________________________________\n"
     ]
    }
   ],
   "source": [
    "## Check number of parameters\n",
    "\n",
    "model_2.summary()"
   ]
  },
  {
   "cell_type": "code",
   "execution_count": 12,
   "metadata": {},
   "outputs": [],
   "source": [
    "# initiate RMSprop optimizer\n",
    "opt_2 = keras.optimizers.RMSprop(lr=0.0005)\n",
    "\n",
    "# Let's train the model using RMSprop\n",
    "model_2.compile(loss='categorical_crossentropy',\n",
    "              optimizer=opt_2,\n",
    "              metrics=['accuracy'])"
   ]
  },
  {
   "cell_type": "code",
   "execution_count": 13,
   "metadata": {
    "scrolled": true
   },
   "outputs": [
    {
     "name": "stdout",
     "output_type": "stream",
     "text": [
      "Train on 50000 samples, validate on 10000 samples\n",
      "Epoch 1/5\n",
      "50000/50000 [==============================] - 255s 5ms/step - loss: 1.5711 - accuracy: 0.4337 - val_loss: 1.2029 - val_accuracy: 0.5686\n",
      "Epoch 2/5\n",
      "50000/50000 [==============================] - 263s 5ms/step - loss: 1.1578 - accuracy: 0.5909 - val_loss: 1.1049 - val_accuracy: 0.6119\n",
      "Epoch 3/5\n",
      "50000/50000 [==============================] - 190s 4ms/step - loss: 0.9918 - accuracy: 0.6537 - val_loss: 0.9459 - val_accuracy: 0.6702\n",
      "Epoch 4/5\n",
      "50000/50000 [==============================] - 173s 3ms/step - loss: 0.8942 - accuracy: 0.6887 - val_loss: 1.0118 - val_accuracy: 0.6574\n",
      "Epoch 5/5\n",
      "50000/50000 [==============================] - 169s 3ms/step - loss: 0.8434 - accuracy: 0.7069 - val_loss: 0.8543 - val_accuracy: 0.7012\n"
     ]
    },
    {
     "data": {
      "text/plain": [
       "<keras.callbacks.callbacks.History at 0x20b65aa3948>"
      ]
     },
     "execution_count": 13,
     "metadata": {},
     "output_type": "execute_result"
    }
   ],
   "source": [
    "model_2.fit(x_train, y_train,\n",
    "              batch_size=batch_size,\n",
    "              epochs=5,\n",
    "              validation_data=(x_test, y_test),\n",
    "              shuffle=True)"
   ]
  },
  {
   "cell_type": "markdown",
   "metadata": {},
   "source": [
    "---\n",
    "### Machine Learning Foundation (C) 2020 IBM Corporation"
   ]
  }
 ],
 "metadata": {
  "kernelspec": {
   "display_name": "Python 3",
   "language": "python",
   "name": "python3"
  },
  "language_info": {
   "codemirror_mode": {
    "name": "ipython",
    "version": 3
   },
   "file_extension": ".py",
   "mimetype": "text/x-python",
   "name": "python",
   "nbconvert_exporter": "python",
   "pygments_lexer": "ipython3",
   "version": "3.8.5-final"
  }
 },
 "nbformat": 4,
 "nbformat_minor": 4
}