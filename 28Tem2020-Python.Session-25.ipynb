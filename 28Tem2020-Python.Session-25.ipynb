{
 "cells": [
  {
   "cell_type": "code",
   "execution_count": 2,
   "metadata": {},
   "outputs": [
    {
     "name": "stdout",
     "output_type": "stream",
     "text": [
      "x4\n"
     ]
    }
   ],
   "source": [
    "try :\n",
    "    print(\"x\" + \"4\")\n",
    "except :\n",
    "    print(\"bir şeyler ters gitti\")"
   ]
  },
  {
   "cell_type": "code",
   "execution_count": 17,
   "metadata": {},
   "outputs": [],
   "source": [
    "counter = 0"
   ]
  },
  {
   "cell_type": "code",
   "execution_count": 23,
   "metadata": {},
   "outputs": [
    {
     "name": "stdout",
     "output_type": "stream",
     "text": [
      "böyle bir dosya yok. hatalı dosya okuma kaydedildi.\n"
     ]
    }
   ],
   "source": [
    "try :\n",
    "    with open(\"ddddd.txt\", \"r\", encoding = \"utf-8\") as file :\n",
    "        print(file.read())\n",
    "except FileNotFoundError :\n",
    "    counter += 1\n",
    "    with open(\"hata.txt\", \"a\", encoding = \"utf-8\") as f :\n",
    "        f.write(\"hatalı giriş sayısı : \" + str(counter) + \"\\n\")\n",
    "    print(\"böyle bir dosya yok. hatalı dosya okuma kaydedildi.\")"
   ]
  },
  {
   "cell_type": "code",
   "execution_count": null,
   "metadata": {},
   "outputs": [],
   "source": [
    "# hata.txt"
   ]
  },
  {
   "cell_type": "code",
   "execution_count": 3,
   "metadata": {},
   "outputs": [
    {
     "ename": "FileNotFoundError",
     "evalue": "[Errno 2] No such file or directory: 'my_file11.txt'",
     "output_type": "error",
     "traceback": [
      "\u001b[1;31m---------------------------------------------------------------------------\u001b[0m",
      "\u001b[1;31mFileNotFoundError\u001b[0m                         Traceback (most recent call last)",
      "\u001b[1;32m<ipython-input-3-bedb493af83e>\u001b[0m in \u001b[0;36m<module>\u001b[1;34m\u001b[0m\n\u001b[1;32m----> 1\u001b[1;33m \u001b[1;32mwith\u001b[0m \u001b[0mopen\u001b[0m\u001b[1;33m(\u001b[0m\u001b[1;34m\"my_file11.txt\"\u001b[0m\u001b[1;33m,\u001b[0m \u001b[1;34m\"r\"\u001b[0m\u001b[1;33m,\u001b[0m \u001b[0mencoding\u001b[0m \u001b[1;33m=\u001b[0m \u001b[1;34m\"utf-8\"\u001b[0m\u001b[1;33m)\u001b[0m \u001b[1;32mas\u001b[0m \u001b[0mfile\u001b[0m \u001b[1;33m:\u001b[0m\u001b[1;33m\u001b[0m\u001b[1;33m\u001b[0m\u001b[0m\n\u001b[0m\u001b[0;32m      2\u001b[0m     \u001b[0mprint\u001b[0m\u001b[1;33m(\u001b[0m\u001b[0mfile\u001b[0m\u001b[1;33m.\u001b[0m\u001b[0mread\u001b[0m\u001b[1;33m(\u001b[0m\u001b[1;33m)\u001b[0m\u001b[1;33m)\u001b[0m\u001b[1;33m\u001b[0m\u001b[1;33m\u001b[0m\u001b[0m\n",
      "\u001b[1;31mFileNotFoundError\u001b[0m: [Errno 2] No such file or directory: 'my_file11.txt'"
     ]
    }
   ],
   "source": [
    "with open(\"my_file11.txt\", \"r\", encoding = \"utf-8\") as file :\n",
    "    print(file.read())"
   ]
  },
  {
   "cell_type": "code",
   "execution_count": 26,
   "metadata": {},
   "outputs": [
    {
     "name": "stdout",
     "output_type": "stream",
     "text": [
      "x4\n",
      "demek ki exception yükselmemiş\n",
      "nihayet ben çalıştım\n"
     ]
    }
   ],
   "source": [
    "try : \n",
    "    print(\"x\" + \"4\")\n",
    "except TypeError:\n",
    "    print(\"Değeri yanlış\")\n",
    "else :\n",
    "    print(\"demek ki exception yükselmemiş\")\n",
    "finally :\n",
    "    print(\"nihayet ben çalıştım\")"
   ]
  },
  {
   "cell_type": "code",
   "execution_count": 27,
   "metadata": {},
   "outputs": [
    {
     "name": "stdout",
     "output_type": "stream",
     "text": [
      "Değeri yanlış\n",
      "nihayet ben çalıştım\n"
     ]
    }
   ],
   "source": [
    "try : \n",
    "    print(\"x\" + 4)\n",
    "except TypeError:\n",
    "    print(\"Değeri yanlış\")\n",
    "else :\n",
    "    print(\"demek ki exception yükselmemiş\")\n",
    "finally :\n",
    "    print(\"nihayet ben çalıştım\")"
   ]
  },
  {
   "cell_type": "code",
   "execution_count": 28,
   "metadata": {},
   "outputs": [
    {
     "name": "stdout",
     "output_type": "stream",
     "text": [
      "nihayet ben çalıştım\n"
     ]
    },
    {
     "ename": "TypeError",
     "evalue": "can only concatenate str (not \"int\") to str",
     "output_type": "error",
     "traceback": [
      "\u001b[1;31m---------------------------------------------------------------------------\u001b[0m",
      "\u001b[1;31mTypeError\u001b[0m                                 Traceback (most recent call last)",
      "\u001b[1;32m<ipython-input-28-022b9fffa1cd>\u001b[0m in \u001b[0;36m<module>\u001b[1;34m\u001b[0m\n\u001b[0;32m      1\u001b[0m \u001b[1;32mtry\u001b[0m \u001b[1;33m:\u001b[0m\u001b[1;33m\u001b[0m\u001b[1;33m\u001b[0m\u001b[0m\n\u001b[1;32m----> 2\u001b[1;33m     \u001b[0mprint\u001b[0m\u001b[1;33m(\u001b[0m\u001b[1;34m\"x\"\u001b[0m \u001b[1;33m+\u001b[0m \u001b[1;36m4\u001b[0m\u001b[1;33m)\u001b[0m\u001b[1;33m\u001b[0m\u001b[1;33m\u001b[0m\u001b[0m\n\u001b[0m\u001b[0;32m      3\u001b[0m \u001b[1;32mexcept\u001b[0m \u001b[0mValueError\u001b[0m\u001b[1;33m:\u001b[0m\u001b[1;33m\u001b[0m\u001b[1;33m\u001b[0m\u001b[0m\n\u001b[0;32m      4\u001b[0m     \u001b[0mprint\u001b[0m\u001b[1;33m(\u001b[0m\u001b[1;34m\"Değeri yanlış\"\u001b[0m\u001b[1;33m)\u001b[0m\u001b[1;33m\u001b[0m\u001b[1;33m\u001b[0m\u001b[0m\n\u001b[0;32m      5\u001b[0m \u001b[1;32melse\u001b[0m \u001b[1;33m:\u001b[0m\u001b[1;33m\u001b[0m\u001b[1;33m\u001b[0m\u001b[0m\n",
      "\u001b[1;31mTypeError\u001b[0m: can only concatenate str (not \"int\") to str"
     ]
    }
   ],
   "source": [
    "try : \n",
    "    print(\"x\" + 4)\n",
    "except ValueError:\n",
    "    print(\"Değeri yanlış\")\n",
    "else :\n",
    "    print(\"demek ki exception yükselmemiş\")\n",
    "finally :\n",
    "    print(\"nihayet ben çalıştım\")"
   ]
  },
  {
   "cell_type": "code",
   "execution_count": 33,
   "metadata": {},
   "outputs": [
    {
     "name": "stdout",
     "output_type": "stream",
     "text": [
      "The first number please : 5\n",
      "The second number please : beş\n",
      "You can not enter other than number. Try again\n",
      "Thanks for using our mini divison calculator! Come again!\n"
     ]
    }
   ],
   "source": [
    "while True:\n",
    "    try:\n",
    "        no_one = int(input(\"The first number please : \"))\n",
    "        no_two = int(input(\"The second number please : \"))\n",
    "        division = no_one / no_two  # normal part of the program\n",
    "    except ZeroDivisionError:\n",
    "        print(\"You can't divide by zero! Try again.\")  # executes when division by zero\n",
    "    except ValueError :\n",
    "        print(\"You can not enter other than number. Try again\")\n",
    "    else:\n",
    "        print(\"The result of the division is : \", division)  # executes if there is no exception\n",
    "    finally:\n",
    "        print(\"Thanks for using our mini divison calculator! Come again!\")\n",
    "        break  # exits the while loop"
   ]
  },
  {
   "cell_type": "code",
   "execution_count": 38,
   "metadata": {},
   "outputs": [
    {
     "name": "stdout",
     "output_type": "stream",
     "text": [
      "isminiz :mm\n",
      "name 'a' is not defined\n",
      "<class 'NameError'>\n"
     ]
    }
   ],
   "source": [
    "try:\n",
    "    isim = input(\"isminiz :\")\n",
    "    a\n",
    "except Exception as e:\n",
    "    print(e)\n",
    "    print(type(e))"
   ]
  },
  {
   "cell_type": "code",
   "execution_count": 52,
   "metadata": {},
   "outputs": [
    {
     "name": "stdout",
     "output_type": "stream",
     "text": [
      "isminiz :bahar\n"
     ]
    }
   ],
   "source": [
    "try:\n",
    "    isim = input(\"isminiz :\")\n",
    "    a\n",
    "except Exception as e:\n",
    "    with open(\"hata1.txt\", \"a\", encoding = \"utf-8\") as joseph :\n",
    "        joseph.write(isim + \",{}\".format(e) + \"\\n\")"
   ]
  },
  {
   "cell_type": "code",
   "execution_count": 50,
   "metadata": {},
   "outputs": [
    {
     "name": "stdout",
     "output_type": "stream",
     "text": [
      "isminiz :kadir\n"
     ]
    }
   ],
   "source": [
    "try:\n",
    "    isim = input(\"isminiz :\")\n",
    "    4/0\n",
    "except Exception as e:\n",
    "    with open(\"hata1.txt\", \"a\", encoding = \"utf-8\") as joseph :\n",
    "        joseph.write(isim + \",{}\".format(e) + \"\\n\")"
   ]
  },
  {
   "cell_type": "code",
   "execution_count": 49,
   "metadata": {},
   "outputs": [
    {
     "name": "stdout",
     "output_type": "stream",
     "text": [
      "isminiz :ayşe\n"
     ]
    }
   ],
   "source": [
    "try:\n",
    "    isim = input(\"isminiz :\")\n",
    "    4 + \"\"\n",
    "except Exception as e:\n",
    "    with open(\"hata1.txt\", \"a\", encoding = \"utf-8\") as joseph :\n",
    "        joseph.write(isim + \",{}\".format(e) + \"\\n\")"
   ]
  },
  {
   "cell_type": "code",
   "execution_count": 48,
   "metadata": {},
   "outputs": [
    {
     "name": "stdout",
     "output_type": "stream",
     "text": [
      "isminiz :mehmet\n"
     ]
    }
   ],
   "source": [
    "try:\n",
    "    isim = input(\"isminiz :\")\n",
    "    int(\"beş\")\n",
    "except Exception as e:\n",
    "    with open(\"hata1.txt\", \"a\", encoding = \"utf-8\") as joseph :\n",
    "        joseph.write(isim + \",{}\".format(e) + \"\\n\")"
   ]
  },
  {
   "cell_type": "code",
   "execution_count": 54,
   "metadata": {},
   "outputs": [],
   "source": [
    "import pandas as pd"
   ]
  },
  {
   "cell_type": "code",
   "execution_count": 56,
   "metadata": {},
   "outputs": [
    {
     "data": {
      "text/html": [
       "<div>\n",
       "<style scoped>\n",
       "    .dataframe tbody tr th:only-of-type {\n",
       "        vertical-align: middle;\n",
       "    }\n",
       "\n",
       "    .dataframe tbody tr th {\n",
       "        vertical-align: top;\n",
       "    }\n",
       "\n",
       "    .dataframe thead th {\n",
       "        text-align: right;\n",
       "    }\n",
       "</style>\n",
       "<table border=\"1\" class=\"dataframe\">\n",
       "  <thead>\n",
       "    <tr style=\"text-align: right;\">\n",
       "      <th></th>\n",
       "      <th>isim</th>\n",
       "      <th>hata</th>\n",
       "    </tr>\n",
       "  </thead>\n",
       "  <tbody>\n",
       "    <tr>\n",
       "      <th>0</th>\n",
       "      <td>mehmet</td>\n",
       "      <td>name 'a' is not defined</td>\n",
       "    </tr>\n",
       "    <tr>\n",
       "      <th>1</th>\n",
       "      <td>ahmet</td>\n",
       "      <td>division by zero</td>\n",
       "    </tr>\n",
       "    <tr>\n",
       "      <th>2</th>\n",
       "      <td>yeşim</td>\n",
       "      <td>unsupported operand type(s) for +: 'int' and '...</td>\n",
       "    </tr>\n",
       "    <tr>\n",
       "      <th>3</th>\n",
       "      <td>mehmet</td>\n",
       "      <td>invalid literal for int() with base 10: 'beş'</td>\n",
       "    </tr>\n",
       "    <tr>\n",
       "      <th>4</th>\n",
       "      <td>joseph</td>\n",
       "      <td>name 'a' is not defined</td>\n",
       "    </tr>\n",
       "    <tr>\n",
       "      <th>5</th>\n",
       "      <td>yeşim</td>\n",
       "      <td>division by zero</td>\n",
       "    </tr>\n",
       "    <tr>\n",
       "      <th>6</th>\n",
       "      <td>ahmet</td>\n",
       "      <td>unsupported operand type(s) for +: 'int' and '...</td>\n",
       "    </tr>\n",
       "    <tr>\n",
       "      <th>7</th>\n",
       "      <td>joseph</td>\n",
       "      <td>invalid literal for int() with base 10: 'beş'</td>\n",
       "    </tr>\n",
       "    <tr>\n",
       "      <th>8</th>\n",
       "      <td>mehmet</td>\n",
       "      <td>invalid literal for int() with base 10: 'beş'</td>\n",
       "    </tr>\n",
       "    <tr>\n",
       "      <th>9</th>\n",
       "      <td>ayşe</td>\n",
       "      <td>unsupported operand type(s) for +: 'int' and '...</td>\n",
       "    </tr>\n",
       "    <tr>\n",
       "      <th>10</th>\n",
       "      <td>kadir</td>\n",
       "      <td>division by zero</td>\n",
       "    </tr>\n",
       "    <tr>\n",
       "      <th>11</th>\n",
       "      <td>selvi</td>\n",
       "      <td>name 'a' is not defined</td>\n",
       "    </tr>\n",
       "    <tr>\n",
       "      <th>12</th>\n",
       "      <td>bahar</td>\n",
       "      <td>name 'a' is not defined</td>\n",
       "    </tr>\n",
       "  </tbody>\n",
       "</table>\n",
       "</div>"
      ],
      "text/plain": [
       "      isim                                               hata\n",
       "0   mehmet                            name 'a' is not defined\n",
       "1    ahmet                                   division by zero\n",
       "2    yeşim  unsupported operand type(s) for +: 'int' and '...\n",
       "3   mehmet      invalid literal for int() with base 10: 'beş'\n",
       "4   joseph                            name 'a' is not defined\n",
       "5    yeşim                                   division by zero\n",
       "6    ahmet  unsupported operand type(s) for +: 'int' and '...\n",
       "7   joseph      invalid literal for int() with base 10: 'beş'\n",
       "8   mehmet      invalid literal for int() with base 10: 'beş'\n",
       "9     ayşe  unsupported operand type(s) for +: 'int' and '...\n",
       "10   kadir                                   division by zero\n",
       "11   selvi                            name 'a' is not defined\n",
       "12   bahar                            name 'a' is not defined"
      ]
     },
     "execution_count": 56,
     "metadata": {},
     "output_type": "execute_result"
    }
   ],
   "source": [
    "df = pd.read_csv(\"hata1.txt\")\n",
    "df"
   ]
  },
  {
   "cell_type": "code",
   "execution_count": 58,
   "metadata": {},
   "outputs": [
    {
     "data": {
      "text/html": [
       "<div>\n",
       "<style scoped>\n",
       "    .dataframe tbody tr th:only-of-type {\n",
       "        vertical-align: middle;\n",
       "    }\n",
       "\n",
       "    .dataframe tbody tr th {\n",
       "        vertical-align: top;\n",
       "    }\n",
       "\n",
       "    .dataframe thead th {\n",
       "        text-align: right;\n",
       "    }\n",
       "</style>\n",
       "<table border=\"1\" class=\"dataframe\">\n",
       "  <thead>\n",
       "    <tr style=\"text-align: right;\">\n",
       "      <th></th>\n",
       "      <th>isim</th>\n",
       "      <th>hata</th>\n",
       "    </tr>\n",
       "  </thead>\n",
       "  <tbody>\n",
       "    <tr>\n",
       "      <th>0</th>\n",
       "      <td>mehmet</td>\n",
       "      <td>name 'a' is not defined</td>\n",
       "    </tr>\n",
       "    <tr>\n",
       "      <th>4</th>\n",
       "      <td>joseph</td>\n",
       "      <td>name 'a' is not defined</td>\n",
       "    </tr>\n",
       "    <tr>\n",
       "      <th>11</th>\n",
       "      <td>selvi</td>\n",
       "      <td>name 'a' is not defined</td>\n",
       "    </tr>\n",
       "    <tr>\n",
       "      <th>12</th>\n",
       "      <td>bahar</td>\n",
       "      <td>name 'a' is not defined</td>\n",
       "    </tr>\n",
       "  </tbody>\n",
       "</table>\n",
       "</div>"
      ],
      "text/plain": [
       "      isim                     hata\n",
       "0   mehmet  name 'a' is not defined\n",
       "4   joseph  name 'a' is not defined\n",
       "11   selvi  name 'a' is not defined\n",
       "12   bahar  name 'a' is not defined"
      ]
     },
     "execution_count": 58,
     "metadata": {},
     "output_type": "execute_result"
    }
   ],
   "source": [
    "df[df[\"hata\"] == \"name 'a' is not defined\"]"
   ]
  },
  {
   "cell_type": "code",
   "execution_count": 59,
   "metadata": {},
   "outputs": [
    {
     "data": {
      "text/html": [
       "<div>\n",
       "<style scoped>\n",
       "    .dataframe tbody tr th:only-of-type {\n",
       "        vertical-align: middle;\n",
       "    }\n",
       "\n",
       "    .dataframe tbody tr th {\n",
       "        vertical-align: top;\n",
       "    }\n",
       "\n",
       "    .dataframe thead th {\n",
       "        text-align: right;\n",
       "    }\n",
       "</style>\n",
       "<table border=\"1\" class=\"dataframe\">\n",
       "  <thead>\n",
       "    <tr style=\"text-align: right;\">\n",
       "      <th></th>\n",
       "      <th>isim</th>\n",
       "      <th>hata</th>\n",
       "    </tr>\n",
       "  </thead>\n",
       "  <tbody>\n",
       "    <tr>\n",
       "      <th>1</th>\n",
       "      <td>ahmet</td>\n",
       "      <td>division by zero</td>\n",
       "    </tr>\n",
       "    <tr>\n",
       "      <th>5</th>\n",
       "      <td>yeşim</td>\n",
       "      <td>division by zero</td>\n",
       "    </tr>\n",
       "    <tr>\n",
       "      <th>10</th>\n",
       "      <td>kadir</td>\n",
       "      <td>division by zero</td>\n",
       "    </tr>\n",
       "  </tbody>\n",
       "</table>\n",
       "</div>"
      ],
      "text/plain": [
       "     isim              hata\n",
       "1   ahmet  division by zero\n",
       "5   yeşim  division by zero\n",
       "10  kadir  division by zero"
      ]
     },
     "execution_count": 59,
     "metadata": {},
     "output_type": "execute_result"
    }
   ],
   "source": [
    "df[df[\"hata\"] == \"division by zero\"]"
   ]
  },
  {
   "cell_type": "code",
   "execution_count": 60,
   "metadata": {},
   "outputs": [
    {
     "data": {
      "text/plain": [
       "mehmet    3\n",
       "ahmet     2\n",
       "joseph    2\n",
       "yeşim     2\n",
       "selvi     1\n",
       "bahar     1\n",
       "ayşe      1\n",
       "kadir     1\n",
       "Name: isim, dtype: int64"
      ]
     },
     "execution_count": 60,
     "metadata": {},
     "output_type": "execute_result"
    }
   ],
   "source": [
    "df.isim.value_counts()"
   ]
  },
  {
   "cell_type": "code",
   "execution_count": 61,
   "metadata": {},
   "outputs": [],
   "source": [
    "xx = {\"e\" : 4, \"b\" : 2, \"c\" : 3, \"f\" : 1}"
   ]
  },
  {
   "cell_type": "code",
   "execution_count": 62,
   "metadata": {},
   "outputs": [
    {
     "data": {
      "text/plain": [
       "['b', 'c', 'e', 'f']"
      ]
     },
     "execution_count": 62,
     "metadata": {},
     "output_type": "execute_result"
    }
   ],
   "source": [
    "sorted(xx)"
   ]
  },
  {
   "cell_type": "code",
   "execution_count": null,
   "metadata": {},
   "outputs": [],
   "source": [
    "# [(\"f\", 1), (\"b\", 2), (\"c\", 3), (\"e\", 4)]"
   ]
  },
  {
   "cell_type": "code",
   "execution_count": 70,
   "metadata": {},
   "outputs": [
    {
     "data": {
      "text/plain": [
       "[('f', 1), ('b', 2), ('c', 3), ('e', 4)]"
      ]
     },
     "execution_count": 70,
     "metadata": {},
     "output_type": "execute_result"
    }
   ],
   "source": [
    "sorted(xx.items(), key = lambda x : x[1])"
   ]
  },
  {
   "cell_type": "code",
   "execution_count": 69,
   "metadata": {},
   "outputs": [
    {
     "data": {
      "text/plain": [
       "('b', 2)"
      ]
     },
     "execution_count": 69,
     "metadata": {},
     "output_type": "execute_result"
    }
   ],
   "source": [
    "sorted(xx.items())[0]"
   ]
  },
  {
   "cell_type": "code",
   "execution_count": 71,
   "metadata": {},
   "outputs": [],
   "source": [
    "my_list = [1, 2, 3, 4, 5]"
   ]
  },
  {
   "cell_type": "code",
   "execution_count": 80,
   "metadata": {},
   "outputs": [],
   "source": [
    "a = (x**2 for x in my_list)"
   ]
  },
  {
   "cell_type": "code",
   "execution_count": null,
   "metadata": {},
   "outputs": [],
   "source": []
  },
  {
   "cell_type": "code",
   "execution_count": 75,
   "metadata": {
    "scrolled": true
   },
   "outputs": [
    {
     "data": {
      "text/plain": [
       "[1, 4, 9, 16, 25]"
      ]
     },
     "execution_count": 75,
     "metadata": {},
     "output_type": "execute_result"
    }
   ],
   "source": [
    "list(a)"
   ]
  },
  {
   "cell_type": "code",
   "execution_count": 81,
   "metadata": {},
   "outputs": [
    {
     "name": "stdout",
     "output_type": "stream",
     "text": [
      "1\n",
      "4\n",
      "9\n",
      "16\n",
      "25\n"
     ]
    }
   ],
   "source": [
    "for i in a:\n",
    "    print(i)"
   ]
  },
  {
   "cell_type": "code",
   "execution_count": 82,
   "metadata": {},
   "outputs": [],
   "source": [
    "for i in a:\n",
    "    print(i)"
   ]
  },
  {
   "cell_type": "code",
   "execution_count": 73,
   "metadata": {},
   "outputs": [
    {
     "data": {
      "text/plain": [
       "[1, 4, 9, 16, 25]"
      ]
     },
     "execution_count": 73,
     "metadata": {},
     "output_type": "execute_result"
    }
   ],
   "source": [
    "[x**2 for x in my_list]"
   ]
  },
  {
   "cell_type": "code",
   "execution_count": 83,
   "metadata": {},
   "outputs": [
    {
     "data": {
      "text/plain": [
       "55"
      ]
     },
     "execution_count": 83,
     "metadata": {},
     "output_type": "execute_result"
    }
   ],
   "source": [
    "sum(x**2 for x in my_list)"
   ]
  },
  {
   "cell_type": "code",
   "execution_count": 84,
   "metadata": {},
   "outputs": [
    {
     "data": {
      "text/plain": [
       "25"
      ]
     },
     "execution_count": 84,
     "metadata": {},
     "output_type": "execute_result"
    }
   ],
   "source": [
    "max(x**2 for x in my_list)"
   ]
  },
  {
   "cell_type": "code",
   "execution_count": 85,
   "metadata": {},
   "outputs": [],
   "source": [
    "eski = [1,2,3]\n",
    "yeni = eski"
   ]
  },
  {
   "cell_type": "code",
   "execution_count": 86,
   "metadata": {},
   "outputs": [
    {
     "data": {
      "text/plain": [
       "[1, 2, 3]"
      ]
     },
     "execution_count": 86,
     "metadata": {},
     "output_type": "execute_result"
    }
   ],
   "source": [
    "yeni"
   ]
  },
  {
   "cell_type": "code",
   "execution_count": 87,
   "metadata": {},
   "outputs": [],
   "source": [
    "yeni.append(\"a\")"
   ]
  },
  {
   "cell_type": "code",
   "execution_count": 88,
   "metadata": {},
   "outputs": [
    {
     "data": {
      "text/plain": [
       "[1, 2, 3, 'a']"
      ]
     },
     "execution_count": 88,
     "metadata": {},
     "output_type": "execute_result"
    }
   ],
   "source": [
    "yeni"
   ]
  },
  {
   "cell_type": "code",
   "execution_count": 89,
   "metadata": {},
   "outputs": [
    {
     "data": {
      "text/plain": [
       "[1, 2, 3, 'a']"
      ]
     },
     "execution_count": 89,
     "metadata": {},
     "output_type": "execute_result"
    }
   ],
   "source": [
    "eski"
   ]
  },
  {
   "cell_type": "code",
   "execution_count": 95,
   "metadata": {},
   "outputs": [],
   "source": [
    "eskim = [\"kedi\", 0, 5, 6.7]"
   ]
  },
  {
   "cell_type": "code",
   "execution_count": 96,
   "metadata": {},
   "outputs": [],
   "source": [
    "yenim = eskim.copy()"
   ]
  },
  {
   "cell_type": "code",
   "execution_count": 97,
   "metadata": {},
   "outputs": [],
   "source": [
    "yenim.append(\"tavşan\")"
   ]
  },
  {
   "cell_type": "code",
   "execution_count": 98,
   "metadata": {},
   "outputs": [
    {
     "data": {
      "text/plain": [
       "['kedi', 0, 5, 6.7, 'tavşan']"
      ]
     },
     "execution_count": 98,
     "metadata": {},
     "output_type": "execute_result"
    }
   ],
   "source": [
    "yenim"
   ]
  },
  {
   "cell_type": "code",
   "execution_count": 99,
   "metadata": {},
   "outputs": [
    {
     "data": {
      "text/plain": [
       "['kedi', 0, 5, 6.7]"
      ]
     },
     "execution_count": 99,
     "metadata": {},
     "output_type": "execute_result"
    }
   ],
   "source": [
    "eskim"
   ]
  },
  {
   "cell_type": "code",
   "execution_count": 100,
   "metadata": {},
   "outputs": [],
   "source": [
    "yenim = eskim[:]  # copy() metodu ile aynı işlemi görüyor"
   ]
  },
  {
   "cell_type": "code",
   "execution_count": 101,
   "metadata": {},
   "outputs": [],
   "source": [
    "yenim.append(\"dana\")"
   ]
  },
  {
   "cell_type": "code",
   "execution_count": 102,
   "metadata": {},
   "outputs": [
    {
     "data": {
      "text/plain": [
       "['kedi', 0, 5, 6.7, 'dana']"
      ]
     },
     "execution_count": 102,
     "metadata": {},
     "output_type": "execute_result"
    }
   ],
   "source": [
    "yenim"
   ]
  },
  {
   "cell_type": "code",
   "execution_count": 103,
   "metadata": {},
   "outputs": [
    {
     "data": {
      "text/plain": [
       "['kedi', 0, 5, 6.7]"
      ]
     },
     "execution_count": 103,
     "metadata": {},
     "output_type": "execute_result"
    }
   ],
   "source": [
    "eskim"
   ]
  },
  {
   "cell_type": "code",
   "execution_count": 107,
   "metadata": {},
   "outputs": [],
   "source": [
    "diller = [\"fransızca\", \"ingilizce\", \"flemenkçe\"]"
   ]
  },
  {
   "cell_type": "code",
   "execution_count": 108,
   "metadata": {},
   "outputs": [],
   "source": [
    "diller2 = [\"ispanyolca\", \"arapça\"]"
   ]
  },
  {
   "cell_type": "code",
   "execution_count": 109,
   "metadata": {},
   "outputs": [
    {
     "data": {
      "text/plain": [
       "['fransızca', 'ingilizce', 'flemenkçe', 'ispanyolca', 'arapça']"
      ]
     },
     "execution_count": 109,
     "metadata": {},
     "output_type": "execute_result"
    }
   ],
   "source": [
    "diller + diller2"
   ]
  },
  {
   "cell_type": "code",
   "execution_count": 111,
   "metadata": {},
   "outputs": [],
   "source": [
    "diller.extend(diller2)"
   ]
  },
  {
   "cell_type": "code",
   "execution_count": 112,
   "metadata": {},
   "outputs": [
    {
     "data": {
      "text/plain": [
       "['fransızca', 'ingilizce', 'flemenkçe', 'ispanyolca', 'arapça']"
      ]
     },
     "execution_count": 112,
     "metadata": {},
     "output_type": "execute_result"
    }
   ],
   "source": [
    "diller"
   ]
  },
  {
   "cell_type": "code",
   "execution_count": 113,
   "metadata": {},
   "outputs": [],
   "source": [
    "dil_tuple = (\"rusca\", \"almanca\")"
   ]
  },
  {
   "cell_type": "code",
   "execution_count": 114,
   "metadata": {},
   "outputs": [],
   "source": [
    "dil_küme = {\"japonca\", \"çince\"}"
   ]
  },
  {
   "cell_type": "code",
   "execution_count": 115,
   "metadata": {},
   "outputs": [
    {
     "data": {
      "text/plain": [
       "['fransızca', 'ingilizce', 'flemenkçe', 'ispanyolca', 'arapça']"
      ]
     },
     "execution_count": 115,
     "metadata": {},
     "output_type": "execute_result"
    }
   ],
   "source": [
    "diller"
   ]
  },
  {
   "cell_type": "code",
   "execution_count": 116,
   "metadata": {},
   "outputs": [],
   "source": [
    "diller.extend(dil_tuple)"
   ]
  },
  {
   "cell_type": "code",
   "execution_count": 117,
   "metadata": {},
   "outputs": [
    {
     "data": {
      "text/plain": [
       "['fransızca',\n",
       " 'ingilizce',\n",
       " 'flemenkçe',\n",
       " 'ispanyolca',\n",
       " 'arapça',\n",
       " 'rusca',\n",
       " 'almanca']"
      ]
     },
     "execution_count": 117,
     "metadata": {},
     "output_type": "execute_result"
    }
   ],
   "source": [
    "diller"
   ]
  },
  {
   "cell_type": "code",
   "execution_count": 118,
   "metadata": {},
   "outputs": [],
   "source": [
    "diller.extend(dil_küme)"
   ]
  },
  {
   "cell_type": "code",
   "execution_count": 119,
   "metadata": {},
   "outputs": [
    {
     "data": {
      "text/plain": [
       "['fransızca',\n",
       " 'ingilizce',\n",
       " 'flemenkçe',\n",
       " 'ispanyolca',\n",
       " 'arapça',\n",
       " 'rusca',\n",
       " 'almanca',\n",
       " 'japonca',\n",
       " 'çince']"
      ]
     },
     "execution_count": 119,
     "metadata": {},
     "output_type": "execute_result"
    }
   ],
   "source": [
    "diller"
   ]
  },
  {
   "cell_type": "code",
   "execution_count": 120,
   "metadata": {},
   "outputs": [],
   "source": [
    "diller = [\"python\", \"java\", \"c++\", \"fransız\", \"c\"]"
   ]
  },
  {
   "cell_type": "code",
   "execution_count": 121,
   "metadata": {},
   "outputs": [],
   "source": [
    "yeni_deger = diller.pop(3)"
   ]
  },
  {
   "cell_type": "code",
   "execution_count": 122,
   "metadata": {},
   "outputs": [
    {
     "data": {
      "text/plain": [
       "'fransız'"
      ]
     },
     "execution_count": 122,
     "metadata": {},
     "output_type": "execute_result"
    }
   ],
   "source": [
    "yeni_deger"
   ]
  },
  {
   "cell_type": "code",
   "execution_count": 123,
   "metadata": {},
   "outputs": [
    {
     "data": {
      "text/plain": [
       "['python', 'java', 'c++', 'c']"
      ]
     },
     "execution_count": 123,
     "metadata": {},
     "output_type": "execute_result"
    }
   ],
   "source": [
    "diller"
   ]
  },
  {
   "cell_type": "code",
   "execution_count": 124,
   "metadata": {},
   "outputs": [
    {
     "data": {
      "text/plain": [
       "'c'"
      ]
     },
     "execution_count": 124,
     "metadata": {},
     "output_type": "execute_result"
    }
   ],
   "source": [
    "diller.pop()"
   ]
  },
  {
   "cell_type": "code",
   "execution_count": 125,
   "metadata": {},
   "outputs": [
    {
     "data": {
      "text/plain": [
       "['python', 'java', 'c++']"
      ]
     },
     "execution_count": 125,
     "metadata": {},
     "output_type": "execute_result"
    }
   ],
   "source": [
    "diller"
   ]
  },
  {
   "cell_type": "code",
   "execution_count": 126,
   "metadata": {},
   "outputs": [
    {
     "data": {
      "text/plain": [
       "'python'"
      ]
     },
     "execution_count": 126,
     "metadata": {},
     "output_type": "execute_result"
    }
   ],
   "source": [
    "diller.pop(-3)"
   ]
  },
  {
   "cell_type": "code",
   "execution_count": 127,
   "metadata": {},
   "outputs": [
    {
     "data": {
      "text/plain": [
       "['java', 'c++']"
      ]
     },
     "execution_count": 127,
     "metadata": {},
     "output_type": "execute_result"
    }
   ],
   "source": [
    "diller"
   ]
  },
  {
   "cell_type": "code",
   "execution_count": 128,
   "metadata": {},
   "outputs": [],
   "source": [
    "import os, glob"
   ]
  },
  {
   "cell_type": "code",
   "execution_count": 130,
   "metadata": {},
   "outputs": [
    {
     "name": "stdout",
     "output_type": "stream",
     "text": [
      "dummy.txt\n",
      "fishes.txt\n",
      "flowers.txt\n",
      "fruits.txt\n",
      "hata.txt\n",
      "hata1.txt\n",
      "insan_siiri.txt\n",
      "istiklal.txt\n",
      "requirements.txt\n",
      "requirements1.txt\n",
      "rumi.txt\n",
      "yaz.txt\n"
     ]
    }
   ],
   "source": [
    "os.chdir(\"C:/Users/YD/pythonic\")\n",
    "for file in glob.glob(\"*.txt\"):\n",
    "    print(file)"
   ]
  },
  {
   "cell_type": "code",
   "execution_count": 131,
   "metadata": {},
   "outputs": [],
   "source": [
    "# recursion, recursive"
   ]
  },
  {
   "cell_type": "code",
   "execution_count": 132,
   "metadata": {},
   "outputs": [],
   "source": [
    "# 4! = 4*3*2*1 = 24"
   ]
  },
  {
   "cell_type": "code",
   "execution_count": 133,
   "metadata": {},
   "outputs": [],
   "source": [
    "def facto(n):\n",
    "    if n == 1 :\n",
    "        return n\n",
    "    else :\n",
    "        return n * facto(n-1)"
   ]
  },
  {
   "cell_type": "code",
   "execution_count": 134,
   "metadata": {},
   "outputs": [
    {
     "data": {
      "text/plain": [
       "24"
      ]
     },
     "execution_count": 134,
     "metadata": {},
     "output_type": "execute_result"
    }
   ],
   "source": [
    "facto(4)"
   ]
  },
  {
   "cell_type": "code",
   "execution_count": 28,
   "metadata": {
    "collapsed": true,
    "jupyter": {
     "outputs_hidden": true
    }
   },
   "outputs": [
    {
     "name": "stdin",
     "output_type": "stream",
     "text": [
      "Enter K and M values:  3 1000\n",
      "input list values:  2 5 4\n",
      "input list values:  3 7 8 9\n",
      "input list values:  5 5 7 8 9 10\n"
     ]
    },
    {
     "name": "stdout",
     "output_type": "stream",
     "text": [
      "========= 5 7 5 ========= 99\n",
      "========= 5 7 7 ========= 123\n",
      "========= 5 7 8 ========= 138\n",
      "========= 5 7 9 ========= 155\n",
      "========= 5 7 10 ========= 174\n",
      "========= 5 8 5 ========= 114\n",
      "========= 5 8 7 ========= 138\n",
      "========= 5 8 8 ========= 153\n",
      "========= 5 8 9 ========= 170\n",
      "========= 5 8 10 ========= 189\n",
      "========= 5 9 5 ========= 131\n",
      "========= 5 9 7 ========= 155\n",
      "========= 5 9 8 ========= 170\n",
      "========= 5 9 9 ========= 187\n",
      "========= 5 9 10 ========= 206\n",
      "========= 4 7 5 ========= 90\n",
      "========= 4 7 7 ========= 114\n",
      "========= 4 7 8 ========= 129\n",
      "========= 4 7 9 ========= 146\n",
      "========= 4 7 10 ========= 165\n",
      "========= 4 8 5 ========= 105\n",
      "========= 4 8 7 ========= 129\n",
      "========= 4 8 8 ========= 144\n",
      "========= 4 8 9 ========= 161\n",
      "========= 4 8 10 ========= 180\n",
      "========= 4 9 5 ========= 122\n",
      "========= 4 9 7 ========= 146\n",
      "========= 4 9 8 ========= 161\n",
      "========= 4 9 9 ========= 178\n",
      "========= 4 9 10 ========= 197\n",
      "206\n"
     ]
    }
   ],
   "source": [
    "credentials = input('Enter K and M values: ').split()\n",
    "lists  = []\n",
    "crd = list(map(int,credentials))\n",
    "for i in range(crd[0]):\n",
    "    lst = input('input list values: ').split()\n",
    "    lst_i = list(map(int,lst))\n",
    "    lists.append(lst_i[1:])\n",
    "\n",
    "\n",
    "max_modu = 0 \n",
    "\n",
    "for i in range(crd[0]):\n",
    "for x in lists[i]:\n",
    "    gen_sum = x ** 2\n",
    "    if i +1 < crd[0]:\n",
    "        for y in lists[i +1]:\n",
    "            gen_sum += y ** 2            \n",
    "            if i + 2 < crd[0]:\n",
    "                for z in lists[i + 2]:\n",
    "                    gen_sum += z ** 2\n",
    "                    gen_modu = gen_sum % crd[1]\n",
    "                    print('=========',f'{x} {y} {z}','=========', gen_modu)\n",
    "\n",
    "                    if gen_modu > max_modu:\n",
    "                        max_modu = gen_modu\n",
    "\n",
    "                    gen_sum -= z ** 2\n",
    "            gen_sum -= y ** 2\n",
    "\n",
    "print(max_modu)\n",
    "        \n",
    "\n",
    "2 5 4 3 7 8 9 5 5 7 8 9 10\n",
    "\n"
   ]
  },
  {
   "cell_type": "code",
   "execution_count": 18,
   "metadata": {
    "jupyter": {
     "source_hidden": true
    }
   },
   "outputs": [],
   "source": [
    "for x in lists[0]:\n",
    "    gen_sum = x ** 2\n",
    "    for y in lists[1]:\n",
    "        gen_sum += y ** 2\n",
    "\n",
    "        for z in lists[2]:\n",
    "            gen_sum += z ** 2\n",
    "            gen_modu = gen_sum % crd[1]\n",
    "            print('=========',f'{x} {y} {z}','=========', gen_modu)\n",
    "\n",
    "            if gen_modu > max_modu:\n",
    "                max_modu = gen_modu\n",
    "\n",
    "            gen_sum -= z ** 2\n",
    "        gen_sum -= y ** 2\n",
    "\n",
    "print(max_modu)\n",
    "\n",
    "def product(*args, repeat=1):\n",
    "    # product('ABCD', 'xy') --> Ax Ay Bx By Cx Cy Dx Dy\n",
    "    # product(range(2), repeat=3) --> 000 001 010 011 100 101 110 111\n",
    "    pools = [tuple(pool) for pool in args] * repeat\n",
    "    result = [[]]\n",
    "    for pool in pools:\n",
    "        result = [x+[y] for x in result for y in pool]\n",
    "    for prod in result:\n",
    "        yield tuple(prod)"
   ]
  },
  {
   "cell_type": "code",
   "execution_count": 65,
   "metadata": {},
   "outputs": [
    {
     "name": "stdin",
     "output_type": "stream",
     "text": [
      "Enter K and M values:  3 1000\n",
      "input list values:  5 5 7 8 9 10\n",
      "input list values:  2 5 4 \n",
      "input list values:  3 7 8 9 5\n"
     ]
    },
    {
     "name": "stdout",
     "output_type": "stream",
     "text": [
      "=====input list==== [(5, 4), (7, 8, 9), (5, 7, 8, 9, 10)]\n",
      "=====ARGS==== ([[5, 7, 8, 9, 10], [5, 4], [7, 8, 9, 5]],)\n",
      "=====pools==== [(5, 7, 8, 9, 10), (5, 4), (7, 8, 9, 5)]\n",
      "=====pool==== [5, 7, 8, 9, 10]\n",
      "=====result==== [[5], [7], [8], [9], [10]]\n",
      "=====pool==== [5, 4]\n",
      "=====result==== [[5, 5], [5, 4], [7, 5], [7, 4], [8, 5], [8, 4], [9, 5], [9, 4], [10, 5], [10, 4]]\n",
      "=====pool==== [7, 8, 9, 5]\n",
      "=====result==== [[5, 5, 7], [5, 5, 8], [5, 5, 9], [5, 5, 5], [5, 4, 7], [5, 4, 8], [5, 4, 9], [5, 4, 5], [7, 5, 7], [7, 5, 8], [7, 5, 9], [7, 5, 5], [7, 4, 7], [7, 4, 8], [7, 4, 9], [7, 4, 5], [8, 5, 7], [8, 5, 8], [8, 5, 9], [8, 5, 5], [8, 4, 7], [8, 4, 8], [8, 4, 9], [8, 4, 5], [9, 5, 7], [9, 5, 8], [9, 5, 9], [9, 5, 5], [9, 4, 7], [9, 4, 8], [9, 4, 9], [9, 4, 5], [10, 5, 7], [10, 5, 8], [10, 5, 9], [10, 5, 5], [10, 4, 7], [10, 4, 8], [10, 4, 9], [10, 4, 5]]\n",
      "=====prod==== [[5, 5, 7], [5, 5, 8], [5, 5, 9], [5, 5, 5], [5, 4, 7], [5, 4, 8], [5, 4, 9], [5, 4, 5], [7, 5, 7], [7, 5, 8], [7, 5, 9], [7, 5, 5], [7, 4, 7], [7, 4, 8], [7, 4, 9], [7, 4, 5], [8, 5, 7], [8, 5, 8], [8, 5, 9], [8, 5, 5], [8, 4, 7], [8, 4, 8], [8, 4, 9], [8, 4, 5], [9, 5, 7], [9, 5, 8], [9, 5, 9], [9, 5, 5], [9, 4, 7], [9, 4, 8], [9, 4, 9], [9, 4, 5], [10, 5, 7], [10, 5, 8], [10, 5, 9], [10, 5, 5], [10, 4, 7], [10, 4, 8], [10, 4, 9], [10, 4, 5]]\n",
      "=====prod==== [[5, 5, 7], [5, 5, 8], [5, 5, 9], [5, 5, 5], [5, 4, 7], [5, 4, 8], [5, 4, 9], [5, 4, 5], [7, 5, 7], [7, 5, 8], [7, 5, 9], [7, 5, 5], [7, 4, 7], [7, 4, 8], [7, 4, 9], [7, 4, 5], [8, 5, 7], [8, 5, 8], [8, 5, 9], [8, 5, 5], [8, 4, 7], [8, 4, 8], [8, 4, 9], [8, 4, 5], [9, 5, 7], [9, 5, 8], [9, 5, 9], [9, 5, 5], [9, 4, 7], [9, 4, 8], [9, 4, 9], [9, 4, 5], [10, 5, 7], [10, 5, 8], [10, 5, 9], [10, 5, 5], [10, 4, 7], [10, 4, 8], [10, 4, 9], [10, 4, 5]]\n",
      "=====prod==== [[5, 5, 7], [5, 5, 8], [5, 5, 9], [5, 5, 5], [5, 4, 7], [5, 4, 8], [5, 4, 9], [5, 4, 5], [7, 5, 7], [7, 5, 8], [7, 5, 9], [7, 5, 5], [7, 4, 7], [7, 4, 8], [7, 4, 9], [7, 4, 5], [8, 5, 7], [8, 5, 8], [8, 5, 9], [8, 5, 5], [8, 4, 7], [8, 4, 8], [8, 4, 9], [8, 4, 5], [9, 5, 7], [9, 5, 8], [9, 5, 9], [9, 5, 5], [9, 4, 7], [9, 4, 8], [9, 4, 9], [9, 4, 5], [10, 5, 7], [10, 5, 8], [10, 5, 9], [10, 5, 5], [10, 4, 7], [10, 4, 8], [10, 4, 9], [10, 4, 5]]\n",
      "=====prod==== [[5, 5, 7], [5, 5, 8], [5, 5, 9], [5, 5, 5], [5, 4, 7], [5, 4, 8], [5, 4, 9], [5, 4, 5], [7, 5, 7], [7, 5, 8], [7, 5, 9], [7, 5, 5], [7, 4, 7], [7, 4, 8], [7, 4, 9], [7, 4, 5], [8, 5, 7], [8, 5, 8], [8, 5, 9], [8, 5, 5], [8, 4, 7], [8, 4, 8], [8, 4, 9], [8, 4, 5], [9, 5, 7], [9, 5, 8], [9, 5, 9], [9, 5, 5], [9, 4, 7], [9, 4, 8], [9, 4, 9], [9, 4, 5], [10, 5, 7], [10, 5, 8], [10, 5, 9], [10, 5, 5], [10, 4, 7], [10, 4, 8], [10, 4, 9], [10, 4, 5]]\n",
      "=====prod==== [[5, 5, 7], [5, 5, 8], [5, 5, 9], [5, 5, 5], [5, 4, 7], [5, 4, 8], [5, 4, 9], [5, 4, 5], [7, 5, 7], [7, 5, 8], [7, 5, 9], [7, 5, 5], [7, 4, 7], [7, 4, 8], [7, 4, 9], [7, 4, 5], [8, 5, 7], [8, 5, 8], [8, 5, 9], [8, 5, 5], [8, 4, 7], [8, 4, 8], [8, 4, 9], [8, 4, 5], [9, 5, 7], [9, 5, 8], [9, 5, 9], [9, 5, 5], [9, 4, 7], [9, 4, 8], [9, 4, 9], [9, 4, 5], [10, 5, 7], [10, 5, 8], [10, 5, 9], [10, 5, 5], [10, 4, 7], [10, 4, 8], [10, 4, 9], [10, 4, 5]]\n",
      "=====prod==== [[5, 5, 7], [5, 5, 8], [5, 5, 9], [5, 5, 5], [5, 4, 7], [5, 4, 8], [5, 4, 9], [5, 4, 5], [7, 5, 7], [7, 5, 8], [7, 5, 9], [7, 5, 5], [7, 4, 7], [7, 4, 8], [7, 4, 9], [7, 4, 5], [8, 5, 7], [8, 5, 8], [8, 5, 9], [8, 5, 5], [8, 4, 7], [8, 4, 8], [8, 4, 9], [8, 4, 5], [9, 5, 7], [9, 5, 8], [9, 5, 9], [9, 5, 5], [9, 4, 7], [9, 4, 8], [9, 4, 9], [9, 4, 5], [10, 5, 7], [10, 5, 8], [10, 5, 9], [10, 5, 5], [10, 4, 7], [10, 4, 8], [10, 4, 9], [10, 4, 5]]\n",
      "=====prod==== [[5, 5, 7], [5, 5, 8], [5, 5, 9], [5, 5, 5], [5, 4, 7], [5, 4, 8], [5, 4, 9], [5, 4, 5], [7, 5, 7], [7, 5, 8], [7, 5, 9], [7, 5, 5], [7, 4, 7], [7, 4, 8], [7, 4, 9], [7, 4, 5], [8, 5, 7], [8, 5, 8], [8, 5, 9], [8, 5, 5], [8, 4, 7], [8, 4, 8], [8, 4, 9], [8, 4, 5], [9, 5, 7], [9, 5, 8], [9, 5, 9], [9, 5, 5], [9, 4, 7], [9, 4, 8], [9, 4, 9], [9, 4, 5], [10, 5, 7], [10, 5, 8], [10, 5, 9], [10, 5, 5], [10, 4, 7], [10, 4, 8], [10, 4, 9], [10, 4, 5]]\n",
      "=====prod==== [[5, 5, 7], [5, 5, 8], [5, 5, 9], [5, 5, 5], [5, 4, 7], [5, 4, 8], [5, 4, 9], [5, 4, 5], [7, 5, 7], [7, 5, 8], [7, 5, 9], [7, 5, 5], [7, 4, 7], [7, 4, 8], [7, 4, 9], [7, 4, 5], [8, 5, 7], [8, 5, 8], [8, 5, 9], [8, 5, 5], [8, 4, 7], [8, 4, 8], [8, 4, 9], [8, 4, 5], [9, 5, 7], [9, 5, 8], [9, 5, 9], [9, 5, 5], [9, 4, 7], [9, 4, 8], [9, 4, 9], [9, 4, 5], [10, 5, 7], [10, 5, 8], [10, 5, 9], [10, 5, 5], [10, 4, 7], [10, 4, 8], [10, 4, 9], [10, 4, 5]]\n",
      "=====prod==== [[5, 5, 7], [5, 5, 8], [5, 5, 9], [5, 5, 5], [5, 4, 7], [5, 4, 8], [5, 4, 9], [5, 4, 5], [7, 5, 7], [7, 5, 8], [7, 5, 9], [7, 5, 5], [7, 4, 7], [7, 4, 8], [7, 4, 9], [7, 4, 5], [8, 5, 7], [8, 5, 8], [8, 5, 9], [8, 5, 5], [8, 4, 7], [8, 4, 8], [8, 4, 9], [8, 4, 5], [9, 5, 7], [9, 5, 8], [9, 5, 9], [9, 5, 5], [9, 4, 7], [9, 4, 8], [9, 4, 9], [9, 4, 5], [10, 5, 7], [10, 5, 8], [10, 5, 9], [10, 5, 5], [10, 4, 7], [10, 4, 8], [10, 4, 9], [10, 4, 5]]\n",
      "=====prod==== [[5, 5, 7], [5, 5, 8], [5, 5, 9], [5, 5, 5], [5, 4, 7], [5, 4, 8], [5, 4, 9], [5, 4, 5], [7, 5, 7], [7, 5, 8], [7, 5, 9], [7, 5, 5], [7, 4, 7], [7, 4, 8], [7, 4, 9], [7, 4, 5], [8, 5, 7], [8, 5, 8], [8, 5, 9], [8, 5, 5], [8, 4, 7], [8, 4, 8], [8, 4, 9], [8, 4, 5], [9, 5, 7], [9, 5, 8], [9, 5, 9], [9, 5, 5], [9, 4, 7], [9, 4, 8], [9, 4, 9], [9, 4, 5], [10, 5, 7], [10, 5, 8], [10, 5, 9], [10, 5, 5], [10, 4, 7], [10, 4, 8], [10, 4, 9], [10, 4, 5]]\n",
      "=====prod==== [[5, 5, 7], [5, 5, 8], [5, 5, 9], [5, 5, 5], [5, 4, 7], [5, 4, 8], [5, 4, 9], [5, 4, 5], [7, 5, 7], [7, 5, 8], [7, 5, 9], [7, 5, 5], [7, 4, 7], [7, 4, 8], [7, 4, 9], [7, 4, 5], [8, 5, 7], [8, 5, 8], [8, 5, 9], [8, 5, 5], [8, 4, 7], [8, 4, 8], [8, 4, 9], [8, 4, 5], [9, 5, 7], [9, 5, 8], [9, 5, 9], [9, 5, 5], [9, 4, 7], [9, 4, 8], [9, 4, 9], [9, 4, 5], [10, 5, 7], [10, 5, 8], [10, 5, 9], [10, 5, 5], [10, 4, 7], [10, 4, 8], [10, 4, 9], [10, 4, 5]]\n",
      "=====prod==== [[5, 5, 7], [5, 5, 8], [5, 5, 9], [5, 5, 5], [5, 4, 7], [5, 4, 8], [5, 4, 9], [5, 4, 5], [7, 5, 7], [7, 5, 8], [7, 5, 9], [7, 5, 5], [7, 4, 7], [7, 4, 8], [7, 4, 9], [7, 4, 5], [8, 5, 7], [8, 5, 8], [8, 5, 9], [8, 5, 5], [8, 4, 7], [8, 4, 8], [8, 4, 9], [8, 4, 5], [9, 5, 7], [9, 5, 8], [9, 5, 9], [9, 5, 5], [9, 4, 7], [9, 4, 8], [9, 4, 9], [9, 4, 5], [10, 5, 7], [10, 5, 8], [10, 5, 9], [10, 5, 5], [10, 4, 7], [10, 4, 8], [10, 4, 9], [10, 4, 5]]\n",
      "=====prod==== [[5, 5, 7], [5, 5, 8], [5, 5, 9], [5, 5, 5], [5, 4, 7], [5, 4, 8], [5, 4, 9], [5, 4, 5], [7, 5, 7], [7, 5, 8], [7, 5, 9], [7, 5, 5], [7, 4, 7], [7, 4, 8], [7, 4, 9], [7, 4, 5], [8, 5, 7], [8, 5, 8], [8, 5, 9], [8, 5, 5], [8, 4, 7], [8, 4, 8], [8, 4, 9], [8, 4, 5], [9, 5, 7], [9, 5, 8], [9, 5, 9], [9, 5, 5], [9, 4, 7], [9, 4, 8], [9, 4, 9], [9, 4, 5], [10, 5, 7], [10, 5, 8], [10, 5, 9], [10, 5, 5], [10, 4, 7], [10, 4, 8], [10, 4, 9], [10, 4, 5]]\n",
      "=====prod==== [[5, 5, 7], [5, 5, 8], [5, 5, 9], [5, 5, 5], [5, 4, 7], [5, 4, 8], [5, 4, 9], [5, 4, 5], [7, 5, 7], [7, 5, 8], [7, 5, 9], [7, 5, 5], [7, 4, 7], [7, 4, 8], [7, 4, 9], [7, 4, 5], [8, 5, 7], [8, 5, 8], [8, 5, 9], [8, 5, 5], [8, 4, 7], [8, 4, 8], [8, 4, 9], [8, 4, 5], [9, 5, 7], [9, 5, 8], [9, 5, 9], [9, 5, 5], [9, 4, 7], [9, 4, 8], [9, 4, 9], [9, 4, 5], [10, 5, 7], [10, 5, 8], [10, 5, 9], [10, 5, 5], [10, 4, 7], [10, 4, 8], [10, 4, 9], [10, 4, 5]]\n",
      "=====prod==== [[5, 5, 7], [5, 5, 8], [5, 5, 9], [5, 5, 5], [5, 4, 7], [5, 4, 8], [5, 4, 9], [5, 4, 5], [7, 5, 7], [7, 5, 8], [7, 5, 9], [7, 5, 5], [7, 4, 7], [7, 4, 8], [7, 4, 9], [7, 4, 5], [8, 5, 7], [8, 5, 8], [8, 5, 9], [8, 5, 5], [8, 4, 7], [8, 4, 8], [8, 4, 9], [8, 4, 5], [9, 5, 7], [9, 5, 8], [9, 5, 9], [9, 5, 5], [9, 4, 7], [9, 4, 8], [9, 4, 9], [9, 4, 5], [10, 5, 7], [10, 5, 8], [10, 5, 9], [10, 5, 5], [10, 4, 7], [10, 4, 8], [10, 4, 9], [10, 4, 5]]\n",
      "=====prod==== [[5, 5, 7], [5, 5, 8], [5, 5, 9], [5, 5, 5], [5, 4, 7], [5, 4, 8], [5, 4, 9], [5, 4, 5], [7, 5, 7], [7, 5, 8], [7, 5, 9], [7, 5, 5], [7, 4, 7], [7, 4, 8], [7, 4, 9], [7, 4, 5], [8, 5, 7], [8, 5, 8], [8, 5, 9], [8, 5, 5], [8, 4, 7], [8, 4, 8], [8, 4, 9], [8, 4, 5], [9, 5, 7], [9, 5, 8], [9, 5, 9], [9, 5, 5], [9, 4, 7], [9, 4, 8], [9, 4, 9], [9, 4, 5], [10, 5, 7], [10, 5, 8], [10, 5, 9], [10, 5, 5], [10, 4, 7], [10, 4, 8], [10, 4, 9], [10, 4, 5]]\n",
      "=====prod==== [[5, 5, 7], [5, 5, 8], [5, 5, 9], [5, 5, 5], [5, 4, 7], [5, 4, 8], [5, 4, 9], [5, 4, 5], [7, 5, 7], [7, 5, 8], [7, 5, 9], [7, 5, 5], [7, 4, 7], [7, 4, 8], [7, 4, 9], [7, 4, 5], [8, 5, 7], [8, 5, 8], [8, 5, 9], [8, 5, 5], [8, 4, 7], [8, 4, 8], [8, 4, 9], [8, 4, 5], [9, 5, 7], [9, 5, 8], [9, 5, 9], [9, 5, 5], [9, 4, 7], [9, 4, 8], [9, 4, 9], [9, 4, 5], [10, 5, 7], [10, 5, 8], [10, 5, 9], [10, 5, 5], [10, 4, 7], [10, 4, 8], [10, 4, 9], [10, 4, 5]]\n",
      "=====prod==== [[5, 5, 7], [5, 5, 8], [5, 5, 9], [5, 5, 5], [5, 4, 7], [5, 4, 8], [5, 4, 9], [5, 4, 5], [7, 5, 7], [7, 5, 8], [7, 5, 9], [7, 5, 5], [7, 4, 7], [7, 4, 8], [7, 4, 9], [7, 4, 5], [8, 5, 7], [8, 5, 8], [8, 5, 9], [8, 5, 5], [8, 4, 7], [8, 4, 8], [8, 4, 9], [8, 4, 5], [9, 5, 7], [9, 5, 8], [9, 5, 9], [9, 5, 5], [9, 4, 7], [9, 4, 8], [9, 4, 9], [9, 4, 5], [10, 5, 7], [10, 5, 8], [10, 5, 9], [10, 5, 5], [10, 4, 7], [10, 4, 8], [10, 4, 9], [10, 4, 5]]\n",
      "=====prod==== [[5, 5, 7], [5, 5, 8], [5, 5, 9], [5, 5, 5], [5, 4, 7], [5, 4, 8], [5, 4, 9], [5, 4, 5], [7, 5, 7], [7, 5, 8], [7, 5, 9], [7, 5, 5], [7, 4, 7], [7, 4, 8], [7, 4, 9], [7, 4, 5], [8, 5, 7], [8, 5, 8], [8, 5, 9], [8, 5, 5], [8, 4, 7], [8, 4, 8], [8, 4, 9], [8, 4, 5], [9, 5, 7], [9, 5, 8], [9, 5, 9], [9, 5, 5], [9, 4, 7], [9, 4, 8], [9, 4, 9], [9, 4, 5], [10, 5, 7], [10, 5, 8], [10, 5, 9], [10, 5, 5], [10, 4, 7], [10, 4, 8], [10, 4, 9], [10, 4, 5]]\n",
      "=====prod==== [[5, 5, 7], [5, 5, 8], [5, 5, 9], [5, 5, 5], [5, 4, 7], [5, 4, 8], [5, 4, 9], [5, 4, 5], [7, 5, 7], [7, 5, 8], [7, 5, 9], [7, 5, 5], [7, 4, 7], [7, 4, 8], [7, 4, 9], [7, 4, 5], [8, 5, 7], [8, 5, 8], [8, 5, 9], [8, 5, 5], [8, 4, 7], [8, 4, 8], [8, 4, 9], [8, 4, 5], [9, 5, 7], [9, 5, 8], [9, 5, 9], [9, 5, 5], [9, 4, 7], [9, 4, 8], [9, 4, 9], [9, 4, 5], [10, 5, 7], [10, 5, 8], [10, 5, 9], [10, 5, 5], [10, 4, 7], [10, 4, 8], [10, 4, 9], [10, 4, 5]]\n",
      "=====prod==== [[5, 5, 7], [5, 5, 8], [5, 5, 9], [5, 5, 5], [5, 4, 7], [5, 4, 8], [5, 4, 9], [5, 4, 5], [7, 5, 7], [7, 5, 8], [7, 5, 9], [7, 5, 5], [7, 4, 7], [7, 4, 8], [7, 4, 9], [7, 4, 5], [8, 5, 7], [8, 5, 8], [8, 5, 9], [8, 5, 5], [8, 4, 7], [8, 4, 8], [8, 4, 9], [8, 4, 5], [9, 5, 7], [9, 5, 8], [9, 5, 9], [9, 5, 5], [9, 4, 7], [9, 4, 8], [9, 4, 9], [9, 4, 5], [10, 5, 7], [10, 5, 8], [10, 5, 9], [10, 5, 5], [10, 4, 7], [10, 4, 8], [10, 4, 9], [10, 4, 5]]\n",
      "=====prod==== [[5, 5, 7], [5, 5, 8], [5, 5, 9], [5, 5, 5], [5, 4, 7], [5, 4, 8], [5, 4, 9], [5, 4, 5], [7, 5, 7], [7, 5, 8], [7, 5, 9], [7, 5, 5], [7, 4, 7], [7, 4, 8], [7, 4, 9], [7, 4, 5], [8, 5, 7], [8, 5, 8], [8, 5, 9], [8, 5, 5], [8, 4, 7], [8, 4, 8], [8, 4, 9], [8, 4, 5], [9, 5, 7], [9, 5, 8], [9, 5, 9], [9, 5, 5], [9, 4, 7], [9, 4, 8], [9, 4, 9], [9, 4, 5], [10, 5, 7], [10, 5, 8], [10, 5, 9], [10, 5, 5], [10, 4, 7], [10, 4, 8], [10, 4, 9], [10, 4, 5]]\n",
      "=====prod==== [[5, 5, 7], [5, 5, 8], [5, 5, 9], [5, 5, 5], [5, 4, 7], [5, 4, 8], [5, 4, 9], [5, 4, 5], [7, 5, 7], [7, 5, 8], [7, 5, 9], [7, 5, 5], [7, 4, 7], [7, 4, 8], [7, 4, 9], [7, 4, 5], [8, 5, 7], [8, 5, 8], [8, 5, 9], [8, 5, 5], [8, 4, 7], [8, 4, 8], [8, 4, 9], [8, 4, 5], [9, 5, 7], [9, 5, 8], [9, 5, 9], [9, 5, 5], [9, 4, 7], [9, 4, 8], [9, 4, 9], [9, 4, 5], [10, 5, 7], [10, 5, 8], [10, 5, 9], [10, 5, 5], [10, 4, 7], [10, 4, 8], [10, 4, 9], [10, 4, 5]]\n",
      "=====prod==== [[5, 5, 7], [5, 5, 8], [5, 5, 9], [5, 5, 5], [5, 4, 7], [5, 4, 8], [5, 4, 9], [5, 4, 5], [7, 5, 7], [7, 5, 8], [7, 5, 9], [7, 5, 5], [7, 4, 7], [7, 4, 8], [7, 4, 9], [7, 4, 5], [8, 5, 7], [8, 5, 8], [8, 5, 9], [8, 5, 5], [8, 4, 7], [8, 4, 8], [8, 4, 9], [8, 4, 5], [9, 5, 7], [9, 5, 8], [9, 5, 9], [9, 5, 5], [9, 4, 7], [9, 4, 8], [9, 4, 9], [9, 4, 5], [10, 5, 7], [10, 5, 8], [10, 5, 9], [10, 5, 5], [10, 4, 7], [10, 4, 8], [10, 4, 9], [10, 4, 5]]\n",
      "=====prod==== [[5, 5, 7], [5, 5, 8], [5, 5, 9], [5, 5, 5], [5, 4, 7], [5, 4, 8], [5, 4, 9], [5, 4, 5], [7, 5, 7], [7, 5, 8], [7, 5, 9], [7, 5, 5], [7, 4, 7], [7, 4, 8], [7, 4, 9], [7, 4, 5], [8, 5, 7], [8, 5, 8], [8, 5, 9], [8, 5, 5], [8, 4, 7], [8, 4, 8], [8, 4, 9], [8, 4, 5], [9, 5, 7], [9, 5, 8], [9, 5, 9], [9, 5, 5], [9, 4, 7], [9, 4, 8], [9, 4, 9], [9, 4, 5], [10, 5, 7], [10, 5, 8], [10, 5, 9], [10, 5, 5], [10, 4, 7], [10, 4, 8], [10, 4, 9], [10, 4, 5]]\n",
      "=====prod==== [[5, 5, 7], [5, 5, 8], [5, 5, 9], [5, 5, 5], [5, 4, 7], [5, 4, 8], [5, 4, 9], [5, 4, 5], [7, 5, 7], [7, 5, 8], [7, 5, 9], [7, 5, 5], [7, 4, 7], [7, 4, 8], [7, 4, 9], [7, 4, 5], [8, 5, 7], [8, 5, 8], [8, 5, 9], [8, 5, 5], [8, 4, 7], [8, 4, 8], [8, 4, 9], [8, 4, 5], [9, 5, 7], [9, 5, 8], [9, 5, 9], [9, 5, 5], [9, 4, 7], [9, 4, 8], [9, 4, 9], [9, 4, 5], [10, 5, 7], [10, 5, 8], [10, 5, 9], [10, 5, 5], [10, 4, 7], [10, 4, 8], [10, 4, 9], [10, 4, 5]]\n",
      "=====prod==== [[5, 5, 7], [5, 5, 8], [5, 5, 9], [5, 5, 5], [5, 4, 7], [5, 4, 8], [5, 4, 9], [5, 4, 5], [7, 5, 7], [7, 5, 8], [7, 5, 9], [7, 5, 5], [7, 4, 7], [7, 4, 8], [7, 4, 9], [7, 4, 5], [8, 5, 7], [8, 5, 8], [8, 5, 9], [8, 5, 5], [8, 4, 7], [8, 4, 8], [8, 4, 9], [8, 4, 5], [9, 5, 7], [9, 5, 8], [9, 5, 9], [9, 5, 5], [9, 4, 7], [9, 4, 8], [9, 4, 9], [9, 4, 5], [10, 5, 7], [10, 5, 8], [10, 5, 9], [10, 5, 5], [10, 4, 7], [10, 4, 8], [10, 4, 9], [10, 4, 5]]\n",
      "=====prod==== [[5, 5, 7], [5, 5, 8], [5, 5, 9], [5, 5, 5], [5, 4, 7], [5, 4, 8], [5, 4, 9], [5, 4, 5], [7, 5, 7], [7, 5, 8], [7, 5, 9], [7, 5, 5], [7, 4, 7], [7, 4, 8], [7, 4, 9], [7, 4, 5], [8, 5, 7], [8, 5, 8], [8, 5, 9], [8, 5, 5], [8, 4, 7], [8, 4, 8], [8, 4, 9], [8, 4, 5], [9, 5, 7], [9, 5, 8], [9, 5, 9], [9, 5, 5], [9, 4, 7], [9, 4, 8], [9, 4, 9], [9, 4, 5], [10, 5, 7], [10, 5, 8], [10, 5, 9], [10, 5, 5], [10, 4, 7], [10, 4, 8], [10, 4, 9], [10, 4, 5]]\n",
      "=====prod==== [[5, 5, 7], [5, 5, 8], [5, 5, 9], [5, 5, 5], [5, 4, 7], [5, 4, 8], [5, 4, 9], [5, 4, 5], [7, 5, 7], [7, 5, 8], [7, 5, 9], [7, 5, 5], [7, 4, 7], [7, 4, 8], [7, 4, 9], [7, 4, 5], [8, 5, 7], [8, 5, 8], [8, 5, 9], [8, 5, 5], [8, 4, 7], [8, 4, 8], [8, 4, 9], [8, 4, 5], [9, 5, 7], [9, 5, 8], [9, 5, 9], [9, 5, 5], [9, 4, 7], [9, 4, 8], [9, 4, 9], [9, 4, 5], [10, 5, 7], [10, 5, 8], [10, 5, 9], [10, 5, 5], [10, 4, 7], [10, 4, 8], [10, 4, 9], [10, 4, 5]]\n",
      "=====prod==== [[5, 5, 7], [5, 5, 8], [5, 5, 9], [5, 5, 5], [5, 4, 7], [5, 4, 8], [5, 4, 9], [5, 4, 5], [7, 5, 7], [7, 5, 8], [7, 5, 9], [7, 5, 5], [7, 4, 7], [7, 4, 8], [7, 4, 9], [7, 4, 5], [8, 5, 7], [8, 5, 8], [8, 5, 9], [8, 5, 5], [8, 4, 7], [8, 4, 8], [8, 4, 9], [8, 4, 5], [9, 5, 7], [9, 5, 8], [9, 5, 9], [9, 5, 5], [9, 4, 7], [9, 4, 8], [9, 4, 9], [9, 4, 5], [10, 5, 7], [10, 5, 8], [10, 5, 9], [10, 5, 5], [10, 4, 7], [10, 4, 8], [10, 4, 9], [10, 4, 5]]\n",
      "=====prod==== [[5, 5, 7], [5, 5, 8], [5, 5, 9], [5, 5, 5], [5, 4, 7], [5, 4, 8], [5, 4, 9], [5, 4, 5], [7, 5, 7], [7, 5, 8], [7, 5, 9], [7, 5, 5], [7, 4, 7], [7, 4, 8], [7, 4, 9], [7, 4, 5], [8, 5, 7], [8, 5, 8], [8, 5, 9], [8, 5, 5], [8, 4, 7], [8, 4, 8], [8, 4, 9], [8, 4, 5], [9, 5, 7], [9, 5, 8], [9, 5, 9], [9, 5, 5], [9, 4, 7], [9, 4, 8], [9, 4, 9], [9, 4, 5], [10, 5, 7], [10, 5, 8], [10, 5, 9], [10, 5, 5], [10, 4, 7], [10, 4, 8], [10, 4, 9], [10, 4, 5]]\n",
      "=====prod==== [[5, 5, 7], [5, 5, 8], [5, 5, 9], [5, 5, 5], [5, 4, 7], [5, 4, 8], [5, 4, 9], [5, 4, 5], [7, 5, 7], [7, 5, 8], [7, 5, 9], [7, 5, 5], [7, 4, 7], [7, 4, 8], [7, 4, 9], [7, 4, 5], [8, 5, 7], [8, 5, 8], [8, 5, 9], [8, 5, 5], [8, 4, 7], [8, 4, 8], [8, 4, 9], [8, 4, 5], [9, 5, 7], [9, 5, 8], [9, 5, 9], [9, 5, 5], [9, 4, 7], [9, 4, 8], [9, 4, 9], [9, 4, 5], [10, 5, 7], [10, 5, 8], [10, 5, 9], [10, 5, 5], [10, 4, 7], [10, 4, 8], [10, 4, 9], [10, 4, 5]]\n",
      "=====prod==== [[5, 5, 7], [5, 5, 8], [5, 5, 9], [5, 5, 5], [5, 4, 7], [5, 4, 8], [5, 4, 9], [5, 4, 5], [7, 5, 7], [7, 5, 8], [7, 5, 9], [7, 5, 5], [7, 4, 7], [7, 4, 8], [7, 4, 9], [7, 4, 5], [8, 5, 7], [8, 5, 8], [8, 5, 9], [8, 5, 5], [8, 4, 7], [8, 4, 8], [8, 4, 9], [8, 4, 5], [9, 5, 7], [9, 5, 8], [9, 5, 9], [9, 5, 5], [9, 4, 7], [9, 4, 8], [9, 4, 9], [9, 4, 5], [10, 5, 7], [10, 5, 8], [10, 5, 9], [10, 5, 5], [10, 4, 7], [10, 4, 8], [10, 4, 9], [10, 4, 5]]\n",
      "=====prod==== [[5, 5, 7], [5, 5, 8], [5, 5, 9], [5, 5, 5], [5, 4, 7], [5, 4, 8], [5, 4, 9], [5, 4, 5], [7, 5, 7], [7, 5, 8], [7, 5, 9], [7, 5, 5], [7, 4, 7], [7, 4, 8], [7, 4, 9], [7, 4, 5], [8, 5, 7], [8, 5, 8], [8, 5, 9], [8, 5, 5], [8, 4, 7], [8, 4, 8], [8, 4, 9], [8, 4, 5], [9, 5, 7], [9, 5, 8], [9, 5, 9], [9, 5, 5], [9, 4, 7], [9, 4, 8], [9, 4, 9], [9, 4, 5], [10, 5, 7], [10, 5, 8], [10, 5, 9], [10, 5, 5], [10, 4, 7], [10, 4, 8], [10, 4, 9], [10, 4, 5]]\n",
      "=====prod==== [[5, 5, 7], [5, 5, 8], [5, 5, 9], [5, 5, 5], [5, 4, 7], [5, 4, 8], [5, 4, 9], [5, 4, 5], [7, 5, 7], [7, 5, 8], [7, 5, 9], [7, 5, 5], [7, 4, 7], [7, 4, 8], [7, 4, 9], [7, 4, 5], [8, 5, 7], [8, 5, 8], [8, 5, 9], [8, 5, 5], [8, 4, 7], [8, 4, 8], [8, 4, 9], [8, 4, 5], [9, 5, 7], [9, 5, 8], [9, 5, 9], [9, 5, 5], [9, 4, 7], [9, 4, 8], [9, 4, 9], [9, 4, 5], [10, 5, 7], [10, 5, 8], [10, 5, 9], [10, 5, 5], [10, 4, 7], [10, 4, 8], [10, 4, 9], [10, 4, 5]]\n",
      "=====prod==== [[5, 5, 7], [5, 5, 8], [5, 5, 9], [5, 5, 5], [5, 4, 7], [5, 4, 8], [5, 4, 9], [5, 4, 5], [7, 5, 7], [7, 5, 8], [7, 5, 9], [7, 5, 5], [7, 4, 7], [7, 4, 8], [7, 4, 9], [7, 4, 5], [8, 5, 7], [8, 5, 8], [8, 5, 9], [8, 5, 5], [8, 4, 7], [8, 4, 8], [8, 4, 9], [8, 4, 5], [9, 5, 7], [9, 5, 8], [9, 5, 9], [9, 5, 5], [9, 4, 7], [9, 4, 8], [9, 4, 9], [9, 4, 5], [10, 5, 7], [10, 5, 8], [10, 5, 9], [10, 5, 5], [10, 4, 7], [10, 4, 8], [10, 4, 9], [10, 4, 5]]\n",
      "=====prod==== [[5, 5, 7], [5, 5, 8], [5, 5, 9], [5, 5, 5], [5, 4, 7], [5, 4, 8], [5, 4, 9], [5, 4, 5], [7, 5, 7], [7, 5, 8], [7, 5, 9], [7, 5, 5], [7, 4, 7], [7, 4, 8], [7, 4, 9], [7, 4, 5], [8, 5, 7], [8, 5, 8], [8, 5, 9], [8, 5, 5], [8, 4, 7], [8, 4, 8], [8, 4, 9], [8, 4, 5], [9, 5, 7], [9, 5, 8], [9, 5, 9], [9, 5, 5], [9, 4, 7], [9, 4, 8], [9, 4, 9], [9, 4, 5], [10, 5, 7], [10, 5, 8], [10, 5, 9], [10, 5, 5], [10, 4, 7], [10, 4, 8], [10, 4, 9], [10, 4, 5]]\n",
      "=====prod==== [[5, 5, 7], [5, 5, 8], [5, 5, 9], [5, 5, 5], [5, 4, 7], [5, 4, 8], [5, 4, 9], [5, 4, 5], [7, 5, 7], [7, 5, 8], [7, 5, 9], [7, 5, 5], [7, 4, 7], [7, 4, 8], [7, 4, 9], [7, 4, 5], [8, 5, 7], [8, 5, 8], [8, 5, 9], [8, 5, 5], [8, 4, 7], [8, 4, 8], [8, 4, 9], [8, 4, 5], [9, 5, 7], [9, 5, 8], [9, 5, 9], [9, 5, 5], [9, 4, 7], [9, 4, 8], [9, 4, 9], [9, 4, 5], [10, 5, 7], [10, 5, 8], [10, 5, 9], [10, 5, 5], [10, 4, 7], [10, 4, 8], [10, 4, 9], [10, 4, 5]]\n",
      "=====prod==== [[5, 5, 7], [5, 5, 8], [5, 5, 9], [5, 5, 5], [5, 4, 7], [5, 4, 8], [5, 4, 9], [5, 4, 5], [7, 5, 7], [7, 5, 8], [7, 5, 9], [7, 5, 5], [7, 4, 7], [7, 4, 8], [7, 4, 9], [7, 4, 5], [8, 5, 7], [8, 5, 8], [8, 5, 9], [8, 5, 5], [8, 4, 7], [8, 4, 8], [8, 4, 9], [8, 4, 5], [9, 5, 7], [9, 5, 8], [9, 5, 9], [9, 5, 5], [9, 4, 7], [9, 4, 8], [9, 4, 9], [9, 4, 5], [10, 5, 7], [10, 5, 8], [10, 5, 9], [10, 5, 5], [10, 4, 7], [10, 4, 8], [10, 4, 9], [10, 4, 5]]\n",
      "=====prod==== [[5, 5, 7], [5, 5, 8], [5, 5, 9], [5, 5, 5], [5, 4, 7], [5, 4, 8], [5, 4, 9], [5, 4, 5], [7, 5, 7], [7, 5, 8], [7, 5, 9], [7, 5, 5], [7, 4, 7], [7, 4, 8], [7, 4, 9], [7, 4, 5], [8, 5, 7], [8, 5, 8], [8, 5, 9], [8, 5, 5], [8, 4, 7], [8, 4, 8], [8, 4, 9], [8, 4, 5], [9, 5, 7], [9, 5, 8], [9, 5, 9], [9, 5, 5], [9, 4, 7], [9, 4, 8], [9, 4, 9], [9, 4, 5], [10, 5, 7], [10, 5, 8], [10, 5, 9], [10, 5, 5], [10, 4, 7], [10, 4, 8], [10, 4, 9], [10, 4, 5]]\n"
     ]
    },
    {
     "data": {
      "text/plain": [
       "[(5, 5, 7),\n",
       " (5, 5, 8),\n",
       " (5, 5, 9),\n",
       " (5, 5, 5),\n",
       " (5, 4, 7),\n",
       " (5, 4, 8),\n",
       " (5, 4, 9),\n",
       " (5, 4, 5),\n",
       " (7, 5, 7),\n",
       " (7, 5, 8),\n",
       " (7, 5, 9),\n",
       " (7, 5, 5),\n",
       " (7, 4, 7),\n",
       " (7, 4, 8),\n",
       " (7, 4, 9),\n",
       " (7, 4, 5),\n",
       " (8, 5, 7),\n",
       " (8, 5, 8),\n",
       " (8, 5, 9),\n",
       " (8, 5, 5),\n",
       " (8, 4, 7),\n",
       " (8, 4, 8),\n",
       " (8, 4, 9),\n",
       " (8, 4, 5),\n",
       " (9, 5, 7),\n",
       " (9, 5, 8),\n",
       " (9, 5, 9),\n",
       " (9, 5, 5),\n",
       " (9, 4, 7),\n",
       " (9, 4, 8),\n",
       " (9, 4, 9),\n",
       " (9, 4, 5),\n",
       " (10, 5, 7),\n",
       " (10, 5, 8),\n",
       " (10, 5, 9),\n",
       " (10, 5, 5),\n",
       " (10, 4, 7),\n",
       " (10, 4, 8),\n",
       " (10, 4, 9),\n",
       " (10, 4, 5)]"
      ]
     },
     "execution_count": 65,
     "metadata": {},
     "output_type": "execute_result"
    }
   ],
   "source": [
    "credentials = input('Enter K and M values: ').split()\n",
    "lists  = []\n",
    "crd = list(map(int,credentials))\n",
    "for i in range(crd[0]):\n",
    "    lst = input('input list values: ').split()\n",
    "    lst_i = list(map(int,lst))\n",
    "    lists.append(lst_i[1:])\n",
    "print('=====input list====', lst_of_tuples)\n",
    "def product(*args, repeat=1):\n",
    "    # product('ABCD', 'xy') --> Ax Ay Bx By Cx Cy Dx Dy\n",
    "    # product(range(2), repeat=3) --> 000 001 010 011 100 101 110 111\n",
    "    print('=====ARGS====', args)\n",
    "    pools = [tuple(pool) for pool in args[0]] * repeat\n",
    "    print('=====pools====', pools)\n",
    "    result = [[]]\n",
    "    for pool in args[0]:\n",
    "        print('=====pool====', pool)\n",
    "        result = [x+[y] for x in result for y in pool]\n",
    "        print('=====result====', result)\n",
    "    for prod in result:\n",
    "        print('=====prod====', result)\n",
    "        yield tuple(prod)\n",
    "list(product(lists))"
   ]
  },
  {
   "cell_type": "code",
   "execution_count": 59,
   "metadata": {},
   "outputs": [
    {
     "name": "stdout",
     "output_type": "stream",
     "text": [
      "=====pools==== [('A', 'B', 'C', 'D'), ('x', 'y'), ('1', '2', '3', '4', '5')]\n",
      "=====pool==== ('A', 'B', 'C', 'D')\n",
      "=====result==== [['A'], ['B'], ['C'], ['D']]\n",
      "=====pool==== ('x', 'y')\n",
      "=====result==== [['A', 'x'], ['A', 'y'], ['B', 'x'], ['B', 'y'], ['C', 'x'], ['C', 'y'], ['D', 'x'], ['D', 'y']]\n",
      "=====pool==== ('1', '2', '3', '4', '5')\n",
      "=====result==== [['A', 'x', '1'], ['A', 'x', '2'], ['A', 'x', '3'], ['A', 'x', '4'], ['A', 'x', '5'], ['A', 'y', '1'], ['A', 'y', '2'], ['A', 'y', '3'], ['A', 'y', '4'], ['A', 'y', '5'], ['B', 'x', '1'], ['B', 'x', '2'], ['B', 'x', '3'], ['B', 'x', '4'], ['B', 'x', '5'], ['B', 'y', '1'], ['B', 'y', '2'], ['B', 'y', '3'], ['B', 'y', '4'], ['B', 'y', '5'], ['C', 'x', '1'], ['C', 'x', '2'], ['C', 'x', '3'], ['C', 'x', '4'], ['C', 'x', '5'], ['C', 'y', '1'], ['C', 'y', '2'], ['C', 'y', '3'], ['C', 'y', '4'], ['C', 'y', '5'], ['D', 'x', '1'], ['D', 'x', '2'], ['D', 'x', '3'], ['D', 'x', '4'], ['D', 'x', '5'], ['D', 'y', '1'], ['D', 'y', '2'], ['D', 'y', '3'], ['D', 'y', '4'], ['D', 'y', '5']]\n",
      "=====prod==== [['A', 'x', '1'], ['A', 'x', '2'], ['A', 'x', '3'], ['A', 'x', '4'], ['A', 'x', '5'], ['A', 'y', '1'], ['A', 'y', '2'], ['A', 'y', '3'], ['A', 'y', '4'], ['A', 'y', '5'], ['B', 'x', '1'], ['B', 'x', '2'], ['B', 'x', '3'], ['B', 'x', '4'], ['B', 'x', '5'], ['B', 'y', '1'], ['B', 'y', '2'], ['B', 'y', '3'], ['B', 'y', '4'], ['B', 'y', '5'], ['C', 'x', '1'], ['C', 'x', '2'], ['C', 'x', '3'], ['C', 'x', '4'], ['C', 'x', '5'], ['C', 'y', '1'], ['C', 'y', '2'], ['C', 'y', '3'], ['C', 'y', '4'], ['C', 'y', '5'], ['D', 'x', '1'], ['D', 'x', '2'], ['D', 'x', '3'], ['D', 'x', '4'], ['D', 'x', '5'], ['D', 'y', '1'], ['D', 'y', '2'], ['D', 'y', '3'], ['D', 'y', '4'], ['D', 'y', '5']]\n",
      "=====prod==== [['A', 'x', '1'], ['A', 'x', '2'], ['A', 'x', '3'], ['A', 'x', '4'], ['A', 'x', '5'], ['A', 'y', '1'], ['A', 'y', '2'], ['A', 'y', '3'], ['A', 'y', '4'], ['A', 'y', '5'], ['B', 'x', '1'], ['B', 'x', '2'], ['B', 'x', '3'], ['B', 'x', '4'], ['B', 'x', '5'], ['B', 'y', '1'], ['B', 'y', '2'], ['B', 'y', '3'], ['B', 'y', '4'], ['B', 'y', '5'], ['C', 'x', '1'], ['C', 'x', '2'], ['C', 'x', '3'], ['C', 'x', '4'], ['C', 'x', '5'], ['C', 'y', '1'], ['C', 'y', '2'], ['C', 'y', '3'], ['C', 'y', '4'], ['C', 'y', '5'], ['D', 'x', '1'], ['D', 'x', '2'], ['D', 'x', '3'], ['D', 'x', '4'], ['D', 'x', '5'], ['D', 'y', '1'], ['D', 'y', '2'], ['D', 'y', '3'], ['D', 'y', '4'], ['D', 'y', '5']]\n",
      "=====prod==== [['A', 'x', '1'], ['A', 'x', '2'], ['A', 'x', '3'], ['A', 'x', '4'], ['A', 'x', '5'], ['A', 'y', '1'], ['A', 'y', '2'], ['A', 'y', '3'], ['A', 'y', '4'], ['A', 'y', '5'], ['B', 'x', '1'], ['B', 'x', '2'], ['B', 'x', '3'], ['B', 'x', '4'], ['B', 'x', '5'], ['B', 'y', '1'], ['B', 'y', '2'], ['B', 'y', '3'], ['B', 'y', '4'], ['B', 'y', '5'], ['C', 'x', '1'], ['C', 'x', '2'], ['C', 'x', '3'], ['C', 'x', '4'], ['C', 'x', '5'], ['C', 'y', '1'], ['C', 'y', '2'], ['C', 'y', '3'], ['C', 'y', '4'], ['C', 'y', '5'], ['D', 'x', '1'], ['D', 'x', '2'], ['D', 'x', '3'], ['D', 'x', '4'], ['D', 'x', '5'], ['D', 'y', '1'], ['D', 'y', '2'], ['D', 'y', '3'], ['D', 'y', '4'], ['D', 'y', '5']]\n",
      "=====prod==== [['A', 'x', '1'], ['A', 'x', '2'], ['A', 'x', '3'], ['A', 'x', '4'], ['A', 'x', '5'], ['A', 'y', '1'], ['A', 'y', '2'], ['A', 'y', '3'], ['A', 'y', '4'], ['A', 'y', '5'], ['B', 'x', '1'], ['B', 'x', '2'], ['B', 'x', '3'], ['B', 'x', '4'], ['B', 'x', '5'], ['B', 'y', '1'], ['B', 'y', '2'], ['B', 'y', '3'], ['B', 'y', '4'], ['B', 'y', '5'], ['C', 'x', '1'], ['C', 'x', '2'], ['C', 'x', '3'], ['C', 'x', '4'], ['C', 'x', '5'], ['C', 'y', '1'], ['C', 'y', '2'], ['C', 'y', '3'], ['C', 'y', '4'], ['C', 'y', '5'], ['D', 'x', '1'], ['D', 'x', '2'], ['D', 'x', '3'], ['D', 'x', '4'], ['D', 'x', '5'], ['D', 'y', '1'], ['D', 'y', '2'], ['D', 'y', '3'], ['D', 'y', '4'], ['D', 'y', '5']]\n",
      "=====prod==== [['A', 'x', '1'], ['A', 'x', '2'], ['A', 'x', '3'], ['A', 'x', '4'], ['A', 'x', '5'], ['A', 'y', '1'], ['A', 'y', '2'], ['A', 'y', '3'], ['A', 'y', '4'], ['A', 'y', '5'], ['B', 'x', '1'], ['B', 'x', '2'], ['B', 'x', '3'], ['B', 'x', '4'], ['B', 'x', '5'], ['B', 'y', '1'], ['B', 'y', '2'], ['B', 'y', '3'], ['B', 'y', '4'], ['B', 'y', '5'], ['C', 'x', '1'], ['C', 'x', '2'], ['C', 'x', '3'], ['C', 'x', '4'], ['C', 'x', '5'], ['C', 'y', '1'], ['C', 'y', '2'], ['C', 'y', '3'], ['C', 'y', '4'], ['C', 'y', '5'], ['D', 'x', '1'], ['D', 'x', '2'], ['D', 'x', '3'], ['D', 'x', '4'], ['D', 'x', '5'], ['D', 'y', '1'], ['D', 'y', '2'], ['D', 'y', '3'], ['D', 'y', '4'], ['D', 'y', '5']]\n",
      "=====prod==== [['A', 'x', '1'], ['A', 'x', '2'], ['A', 'x', '3'], ['A', 'x', '4'], ['A', 'x', '5'], ['A', 'y', '1'], ['A', 'y', '2'], ['A', 'y', '3'], ['A', 'y', '4'], ['A', 'y', '5'], ['B', 'x', '1'], ['B', 'x', '2'], ['B', 'x', '3'], ['B', 'x', '4'], ['B', 'x', '5'], ['B', 'y', '1'], ['B', 'y', '2'], ['B', 'y', '3'], ['B', 'y', '4'], ['B', 'y', '5'], ['C', 'x', '1'], ['C', 'x', '2'], ['C', 'x', '3'], ['C', 'x', '4'], ['C', 'x', '5'], ['C', 'y', '1'], ['C', 'y', '2'], ['C', 'y', '3'], ['C', 'y', '4'], ['C', 'y', '5'], ['D', 'x', '1'], ['D', 'x', '2'], ['D', 'x', '3'], ['D', 'x', '4'], ['D', 'x', '5'], ['D', 'y', '1'], ['D', 'y', '2'], ['D', 'y', '3'], ['D', 'y', '4'], ['D', 'y', '5']]\n",
      "=====prod==== [['A', 'x', '1'], ['A', 'x', '2'], ['A', 'x', '3'], ['A', 'x', '4'], ['A', 'x', '5'], ['A', 'y', '1'], ['A', 'y', '2'], ['A', 'y', '3'], ['A', 'y', '4'], ['A', 'y', '5'], ['B', 'x', '1'], ['B', 'x', '2'], ['B', 'x', '3'], ['B', 'x', '4'], ['B', 'x', '5'], ['B', 'y', '1'], ['B', 'y', '2'], ['B', 'y', '3'], ['B', 'y', '4'], ['B', 'y', '5'], ['C', 'x', '1'], ['C', 'x', '2'], ['C', 'x', '3'], ['C', 'x', '4'], ['C', 'x', '5'], ['C', 'y', '1'], ['C', 'y', '2'], ['C', 'y', '3'], ['C', 'y', '4'], ['C', 'y', '5'], ['D', 'x', '1'], ['D', 'x', '2'], ['D', 'x', '3'], ['D', 'x', '4'], ['D', 'x', '5'], ['D', 'y', '1'], ['D', 'y', '2'], ['D', 'y', '3'], ['D', 'y', '4'], ['D', 'y', '5']]\n",
      "=====prod==== [['A', 'x', '1'], ['A', 'x', '2'], ['A', 'x', '3'], ['A', 'x', '4'], ['A', 'x', '5'], ['A', 'y', '1'], ['A', 'y', '2'], ['A', 'y', '3'], ['A', 'y', '4'], ['A', 'y', '5'], ['B', 'x', '1'], ['B', 'x', '2'], ['B', 'x', '3'], ['B', 'x', '4'], ['B', 'x', '5'], ['B', 'y', '1'], ['B', 'y', '2'], ['B', 'y', '3'], ['B', 'y', '4'], ['B', 'y', '5'], ['C', 'x', '1'], ['C', 'x', '2'], ['C', 'x', '3'], ['C', 'x', '4'], ['C', 'x', '5'], ['C', 'y', '1'], ['C', 'y', '2'], ['C', 'y', '3'], ['C', 'y', '4'], ['C', 'y', '5'], ['D', 'x', '1'], ['D', 'x', '2'], ['D', 'x', '3'], ['D', 'x', '4'], ['D', 'x', '5'], ['D', 'y', '1'], ['D', 'y', '2'], ['D', 'y', '3'], ['D', 'y', '4'], ['D', 'y', '5']]\n",
      "=====prod==== [['A', 'x', '1'], ['A', 'x', '2'], ['A', 'x', '3'], ['A', 'x', '4'], ['A', 'x', '5'], ['A', 'y', '1'], ['A', 'y', '2'], ['A', 'y', '3'], ['A', 'y', '4'], ['A', 'y', '5'], ['B', 'x', '1'], ['B', 'x', '2'], ['B', 'x', '3'], ['B', 'x', '4'], ['B', 'x', '5'], ['B', 'y', '1'], ['B', 'y', '2'], ['B', 'y', '3'], ['B', 'y', '4'], ['B', 'y', '5'], ['C', 'x', '1'], ['C', 'x', '2'], ['C', 'x', '3'], ['C', 'x', '4'], ['C', 'x', '5'], ['C', 'y', '1'], ['C', 'y', '2'], ['C', 'y', '3'], ['C', 'y', '4'], ['C', 'y', '5'], ['D', 'x', '1'], ['D', 'x', '2'], ['D', 'x', '3'], ['D', 'x', '4'], ['D', 'x', '5'], ['D', 'y', '1'], ['D', 'y', '2'], ['D', 'y', '3'], ['D', 'y', '4'], ['D', 'y', '5']]\n",
      "=====prod==== [['A', 'x', '1'], ['A', 'x', '2'], ['A', 'x', '3'], ['A', 'x', '4'], ['A', 'x', '5'], ['A', 'y', '1'], ['A', 'y', '2'], ['A', 'y', '3'], ['A', 'y', '4'], ['A', 'y', '5'], ['B', 'x', '1'], ['B', 'x', '2'], ['B', 'x', '3'], ['B', 'x', '4'], ['B', 'x', '5'], ['B', 'y', '1'], ['B', 'y', '2'], ['B', 'y', '3'], ['B', 'y', '4'], ['B', 'y', '5'], ['C', 'x', '1'], ['C', 'x', '2'], ['C', 'x', '3'], ['C', 'x', '4'], ['C', 'x', '5'], ['C', 'y', '1'], ['C', 'y', '2'], ['C', 'y', '3'], ['C', 'y', '4'], ['C', 'y', '5'], ['D', 'x', '1'], ['D', 'x', '2'], ['D', 'x', '3'], ['D', 'x', '4'], ['D', 'x', '5'], ['D', 'y', '1'], ['D', 'y', '2'], ['D', 'y', '3'], ['D', 'y', '4'], ['D', 'y', '5']]\n",
      "=====prod==== [['A', 'x', '1'], ['A', 'x', '2'], ['A', 'x', '3'], ['A', 'x', '4'], ['A', 'x', '5'], ['A', 'y', '1'], ['A', 'y', '2'], ['A', 'y', '3'], ['A', 'y', '4'], ['A', 'y', '5'], ['B', 'x', '1'], ['B', 'x', '2'], ['B', 'x', '3'], ['B', 'x', '4'], ['B', 'x', '5'], ['B', 'y', '1'], ['B', 'y', '2'], ['B', 'y', '3'], ['B', 'y', '4'], ['B', 'y', '5'], ['C', 'x', '1'], ['C', 'x', '2'], ['C', 'x', '3'], ['C', 'x', '4'], ['C', 'x', '5'], ['C', 'y', '1'], ['C', 'y', '2'], ['C', 'y', '3'], ['C', 'y', '4'], ['C', 'y', '5'], ['D', 'x', '1'], ['D', 'x', '2'], ['D', 'x', '3'], ['D', 'x', '4'], ['D', 'x', '5'], ['D', 'y', '1'], ['D', 'y', '2'], ['D', 'y', '3'], ['D', 'y', '4'], ['D', 'y', '5']]\n",
      "=====prod==== [['A', 'x', '1'], ['A', 'x', '2'], ['A', 'x', '3'], ['A', 'x', '4'], ['A', 'x', '5'], ['A', 'y', '1'], ['A', 'y', '2'], ['A', 'y', '3'], ['A', 'y', '4'], ['A', 'y', '5'], ['B', 'x', '1'], ['B', 'x', '2'], ['B', 'x', '3'], ['B', 'x', '4'], ['B', 'x', '5'], ['B', 'y', '1'], ['B', 'y', '2'], ['B', 'y', '3'], ['B', 'y', '4'], ['B', 'y', '5'], ['C', 'x', '1'], ['C', 'x', '2'], ['C', 'x', '3'], ['C', 'x', '4'], ['C', 'x', '5'], ['C', 'y', '1'], ['C', 'y', '2'], ['C', 'y', '3'], ['C', 'y', '4'], ['C', 'y', '5'], ['D', 'x', '1'], ['D', 'x', '2'], ['D', 'x', '3'], ['D', 'x', '4'], ['D', 'x', '5'], ['D', 'y', '1'], ['D', 'y', '2'], ['D', 'y', '3'], ['D', 'y', '4'], ['D', 'y', '5']]\n",
      "=====prod==== [['A', 'x', '1'], ['A', 'x', '2'], ['A', 'x', '3'], ['A', 'x', '4'], ['A', 'x', '5'], ['A', 'y', '1'], ['A', 'y', '2'], ['A', 'y', '3'], ['A', 'y', '4'], ['A', 'y', '5'], ['B', 'x', '1'], ['B', 'x', '2'], ['B', 'x', '3'], ['B', 'x', '4'], ['B', 'x', '5'], ['B', 'y', '1'], ['B', 'y', '2'], ['B', 'y', '3'], ['B', 'y', '4'], ['B', 'y', '5'], ['C', 'x', '1'], ['C', 'x', '2'], ['C', 'x', '3'], ['C', 'x', '4'], ['C', 'x', '5'], ['C', 'y', '1'], ['C', 'y', '2'], ['C', 'y', '3'], ['C', 'y', '4'], ['C', 'y', '5'], ['D', 'x', '1'], ['D', 'x', '2'], ['D', 'x', '3'], ['D', 'x', '4'], ['D', 'x', '5'], ['D', 'y', '1'], ['D', 'y', '2'], ['D', 'y', '3'], ['D', 'y', '4'], ['D', 'y', '5']]\n",
      "=====prod==== [['A', 'x', '1'], ['A', 'x', '2'], ['A', 'x', '3'], ['A', 'x', '4'], ['A', 'x', '5'], ['A', 'y', '1'], ['A', 'y', '2'], ['A', 'y', '3'], ['A', 'y', '4'], ['A', 'y', '5'], ['B', 'x', '1'], ['B', 'x', '2'], ['B', 'x', '3'], ['B', 'x', '4'], ['B', 'x', '5'], ['B', 'y', '1'], ['B', 'y', '2'], ['B', 'y', '3'], ['B', 'y', '4'], ['B', 'y', '5'], ['C', 'x', '1'], ['C', 'x', '2'], ['C', 'x', '3'], ['C', 'x', '4'], ['C', 'x', '5'], ['C', 'y', '1'], ['C', 'y', '2'], ['C', 'y', '3'], ['C', 'y', '4'], ['C', 'y', '5'], ['D', 'x', '1'], ['D', 'x', '2'], ['D', 'x', '3'], ['D', 'x', '4'], ['D', 'x', '5'], ['D', 'y', '1'], ['D', 'y', '2'], ['D', 'y', '3'], ['D', 'y', '4'], ['D', 'y', '5']]\n",
      "=====prod==== [['A', 'x', '1'], ['A', 'x', '2'], ['A', 'x', '3'], ['A', 'x', '4'], ['A', 'x', '5'], ['A', 'y', '1'], ['A', 'y', '2'], ['A', 'y', '3'], ['A', 'y', '4'], ['A', 'y', '5'], ['B', 'x', '1'], ['B', 'x', '2'], ['B', 'x', '3'], ['B', 'x', '4'], ['B', 'x', '5'], ['B', 'y', '1'], ['B', 'y', '2'], ['B', 'y', '3'], ['B', 'y', '4'], ['B', 'y', '5'], ['C', 'x', '1'], ['C', 'x', '2'], ['C', 'x', '3'], ['C', 'x', '4'], ['C', 'x', '5'], ['C', 'y', '1'], ['C', 'y', '2'], ['C', 'y', '3'], ['C', 'y', '4'], ['C', 'y', '5'], ['D', 'x', '1'], ['D', 'x', '2'], ['D', 'x', '3'], ['D', 'x', '4'], ['D', 'x', '5'], ['D', 'y', '1'], ['D', 'y', '2'], ['D', 'y', '3'], ['D', 'y', '4'], ['D', 'y', '5']]\n",
      "=====prod==== [['A', 'x', '1'], ['A', 'x', '2'], ['A', 'x', '3'], ['A', 'x', '4'], ['A', 'x', '5'], ['A', 'y', '1'], ['A', 'y', '2'], ['A', 'y', '3'], ['A', 'y', '4'], ['A', 'y', '5'], ['B', 'x', '1'], ['B', 'x', '2'], ['B', 'x', '3'], ['B', 'x', '4'], ['B', 'x', '5'], ['B', 'y', '1'], ['B', 'y', '2'], ['B', 'y', '3'], ['B', 'y', '4'], ['B', 'y', '5'], ['C', 'x', '1'], ['C', 'x', '2'], ['C', 'x', '3'], ['C', 'x', '4'], ['C', 'x', '5'], ['C', 'y', '1'], ['C', 'y', '2'], ['C', 'y', '3'], ['C', 'y', '4'], ['C', 'y', '5'], ['D', 'x', '1'], ['D', 'x', '2'], ['D', 'x', '3'], ['D', 'x', '4'], ['D', 'x', '5'], ['D', 'y', '1'], ['D', 'y', '2'], ['D', 'y', '3'], ['D', 'y', '4'], ['D', 'y', '5']]\n",
      "=====prod==== [['A', 'x', '1'], ['A', 'x', '2'], ['A', 'x', '3'], ['A', 'x', '4'], ['A', 'x', '5'], ['A', 'y', '1'], ['A', 'y', '2'], ['A', 'y', '3'], ['A', 'y', '4'], ['A', 'y', '5'], ['B', 'x', '1'], ['B', 'x', '2'], ['B', 'x', '3'], ['B', 'x', '4'], ['B', 'x', '5'], ['B', 'y', '1'], ['B', 'y', '2'], ['B', 'y', '3'], ['B', 'y', '4'], ['B', 'y', '5'], ['C', 'x', '1'], ['C', 'x', '2'], ['C', 'x', '3'], ['C', 'x', '4'], ['C', 'x', '5'], ['C', 'y', '1'], ['C', 'y', '2'], ['C', 'y', '3'], ['C', 'y', '4'], ['C', 'y', '5'], ['D', 'x', '1'], ['D', 'x', '2'], ['D', 'x', '3'], ['D', 'x', '4'], ['D', 'x', '5'], ['D', 'y', '1'], ['D', 'y', '2'], ['D', 'y', '3'], ['D', 'y', '4'], ['D', 'y', '5']]\n",
      "=====prod==== [['A', 'x', '1'], ['A', 'x', '2'], ['A', 'x', '3'], ['A', 'x', '4'], ['A', 'x', '5'], ['A', 'y', '1'], ['A', 'y', '2'], ['A', 'y', '3'], ['A', 'y', '4'], ['A', 'y', '5'], ['B', 'x', '1'], ['B', 'x', '2'], ['B', 'x', '3'], ['B', 'x', '4'], ['B', 'x', '5'], ['B', 'y', '1'], ['B', 'y', '2'], ['B', 'y', '3'], ['B', 'y', '4'], ['B', 'y', '5'], ['C', 'x', '1'], ['C', 'x', '2'], ['C', 'x', '3'], ['C', 'x', '4'], ['C', 'x', '5'], ['C', 'y', '1'], ['C', 'y', '2'], ['C', 'y', '3'], ['C', 'y', '4'], ['C', 'y', '5'], ['D', 'x', '1'], ['D', 'x', '2'], ['D', 'x', '3'], ['D', 'x', '4'], ['D', 'x', '5'], ['D', 'y', '1'], ['D', 'y', '2'], ['D', 'y', '3'], ['D', 'y', '4'], ['D', 'y', '5']]\n",
      "=====prod==== [['A', 'x', '1'], ['A', 'x', '2'], ['A', 'x', '3'], ['A', 'x', '4'], ['A', 'x', '5'], ['A', 'y', '1'], ['A', 'y', '2'], ['A', 'y', '3'], ['A', 'y', '4'], ['A', 'y', '5'], ['B', 'x', '1'], ['B', 'x', '2'], ['B', 'x', '3'], ['B', 'x', '4'], ['B', 'x', '5'], ['B', 'y', '1'], ['B', 'y', '2'], ['B', 'y', '3'], ['B', 'y', '4'], ['B', 'y', '5'], ['C', 'x', '1'], ['C', 'x', '2'], ['C', 'x', '3'], ['C', 'x', '4'], ['C', 'x', '5'], ['C', 'y', '1'], ['C', 'y', '2'], ['C', 'y', '3'], ['C', 'y', '4'], ['C', 'y', '5'], ['D', 'x', '1'], ['D', 'x', '2'], ['D', 'x', '3'], ['D', 'x', '4'], ['D', 'x', '5'], ['D', 'y', '1'], ['D', 'y', '2'], ['D', 'y', '3'], ['D', 'y', '4'], ['D', 'y', '5']]\n",
      "=====prod==== [['A', 'x', '1'], ['A', 'x', '2'], ['A', 'x', '3'], ['A', 'x', '4'], ['A', 'x', '5'], ['A', 'y', '1'], ['A', 'y', '2'], ['A', 'y', '3'], ['A', 'y', '4'], ['A', 'y', '5'], ['B', 'x', '1'], ['B', 'x', '2'], ['B', 'x', '3'], ['B', 'x', '4'], ['B', 'x', '5'], ['B', 'y', '1'], ['B', 'y', '2'], ['B', 'y', '3'], ['B', 'y', '4'], ['B', 'y', '5'], ['C', 'x', '1'], ['C', 'x', '2'], ['C', 'x', '3'], ['C', 'x', '4'], ['C', 'x', '5'], ['C', 'y', '1'], ['C', 'y', '2'], ['C', 'y', '3'], ['C', 'y', '4'], ['C', 'y', '5'], ['D', 'x', '1'], ['D', 'x', '2'], ['D', 'x', '3'], ['D', 'x', '4'], ['D', 'x', '5'], ['D', 'y', '1'], ['D', 'y', '2'], ['D', 'y', '3'], ['D', 'y', '4'], ['D', 'y', '5']]\n",
      "=====prod==== [['A', 'x', '1'], ['A', 'x', '2'], ['A', 'x', '3'], ['A', 'x', '4'], ['A', 'x', '5'], ['A', 'y', '1'], ['A', 'y', '2'], ['A', 'y', '3'], ['A', 'y', '4'], ['A', 'y', '5'], ['B', 'x', '1'], ['B', 'x', '2'], ['B', 'x', '3'], ['B', 'x', '4'], ['B', 'x', '5'], ['B', 'y', '1'], ['B', 'y', '2'], ['B', 'y', '3'], ['B', 'y', '4'], ['B', 'y', '5'], ['C', 'x', '1'], ['C', 'x', '2'], ['C', 'x', '3'], ['C', 'x', '4'], ['C', 'x', '5'], ['C', 'y', '1'], ['C', 'y', '2'], ['C', 'y', '3'], ['C', 'y', '4'], ['C', 'y', '5'], ['D', 'x', '1'], ['D', 'x', '2'], ['D', 'x', '3'], ['D', 'x', '4'], ['D', 'x', '5'], ['D', 'y', '1'], ['D', 'y', '2'], ['D', 'y', '3'], ['D', 'y', '4'], ['D', 'y', '5']]\n",
      "=====prod==== [['A', 'x', '1'], ['A', 'x', '2'], ['A', 'x', '3'], ['A', 'x', '4'], ['A', 'x', '5'], ['A', 'y', '1'], ['A', 'y', '2'], ['A', 'y', '3'], ['A', 'y', '4'], ['A', 'y', '5'], ['B', 'x', '1'], ['B', 'x', '2'], ['B', 'x', '3'], ['B', 'x', '4'], ['B', 'x', '5'], ['B', 'y', '1'], ['B', 'y', '2'], ['B', 'y', '3'], ['B', 'y', '4'], ['B', 'y', '5'], ['C', 'x', '1'], ['C', 'x', '2'], ['C', 'x', '3'], ['C', 'x', '4'], ['C', 'x', '5'], ['C', 'y', '1'], ['C', 'y', '2'], ['C', 'y', '3'], ['C', 'y', '4'], ['C', 'y', '5'], ['D', 'x', '1'], ['D', 'x', '2'], ['D', 'x', '3'], ['D', 'x', '4'], ['D', 'x', '5'], ['D', 'y', '1'], ['D', 'y', '2'], ['D', 'y', '3'], ['D', 'y', '4'], ['D', 'y', '5']]\n",
      "=====prod==== [['A', 'x', '1'], ['A', 'x', '2'], ['A', 'x', '3'], ['A', 'x', '4'], ['A', 'x', '5'], ['A', 'y', '1'], ['A', 'y', '2'], ['A', 'y', '3'], ['A', 'y', '4'], ['A', 'y', '5'], ['B', 'x', '1'], ['B', 'x', '2'], ['B', 'x', '3'], ['B', 'x', '4'], ['B', 'x', '5'], ['B', 'y', '1'], ['B', 'y', '2'], ['B', 'y', '3'], ['B', 'y', '4'], ['B', 'y', '5'], ['C', 'x', '1'], ['C', 'x', '2'], ['C', 'x', '3'], ['C', 'x', '4'], ['C', 'x', '5'], ['C', 'y', '1'], ['C', 'y', '2'], ['C', 'y', '3'], ['C', 'y', '4'], ['C', 'y', '5'], ['D', 'x', '1'], ['D', 'x', '2'], ['D', 'x', '3'], ['D', 'x', '4'], ['D', 'x', '5'], ['D', 'y', '1'], ['D', 'y', '2'], ['D', 'y', '3'], ['D', 'y', '4'], ['D', 'y', '5']]\n",
      "=====prod==== [['A', 'x', '1'], ['A', 'x', '2'], ['A', 'x', '3'], ['A', 'x', '4'], ['A', 'x', '5'], ['A', 'y', '1'], ['A', 'y', '2'], ['A', 'y', '3'], ['A', 'y', '4'], ['A', 'y', '5'], ['B', 'x', '1'], ['B', 'x', '2'], ['B', 'x', '3'], ['B', 'x', '4'], ['B', 'x', '5'], ['B', 'y', '1'], ['B', 'y', '2'], ['B', 'y', '3'], ['B', 'y', '4'], ['B', 'y', '5'], ['C', 'x', '1'], ['C', 'x', '2'], ['C', 'x', '3'], ['C', 'x', '4'], ['C', 'x', '5'], ['C', 'y', '1'], ['C', 'y', '2'], ['C', 'y', '3'], ['C', 'y', '4'], ['C', 'y', '5'], ['D', 'x', '1'], ['D', 'x', '2'], ['D', 'x', '3'], ['D', 'x', '4'], ['D', 'x', '5'], ['D', 'y', '1'], ['D', 'y', '2'], ['D', 'y', '3'], ['D', 'y', '4'], ['D', 'y', '5']]\n",
      "=====prod==== [['A', 'x', '1'], ['A', 'x', '2'], ['A', 'x', '3'], ['A', 'x', '4'], ['A', 'x', '5'], ['A', 'y', '1'], ['A', 'y', '2'], ['A', 'y', '3'], ['A', 'y', '4'], ['A', 'y', '5'], ['B', 'x', '1'], ['B', 'x', '2'], ['B', 'x', '3'], ['B', 'x', '4'], ['B', 'x', '5'], ['B', 'y', '1'], ['B', 'y', '2'], ['B', 'y', '3'], ['B', 'y', '4'], ['B', 'y', '5'], ['C', 'x', '1'], ['C', 'x', '2'], ['C', 'x', '3'], ['C', 'x', '4'], ['C', 'x', '5'], ['C', 'y', '1'], ['C', 'y', '2'], ['C', 'y', '3'], ['C', 'y', '4'], ['C', 'y', '5'], ['D', 'x', '1'], ['D', 'x', '2'], ['D', 'x', '3'], ['D', 'x', '4'], ['D', 'x', '5'], ['D', 'y', '1'], ['D', 'y', '2'], ['D', 'y', '3'], ['D', 'y', '4'], ['D', 'y', '5']]\n",
      "=====prod==== [['A', 'x', '1'], ['A', 'x', '2'], ['A', 'x', '3'], ['A', 'x', '4'], ['A', 'x', '5'], ['A', 'y', '1'], ['A', 'y', '2'], ['A', 'y', '3'], ['A', 'y', '4'], ['A', 'y', '5'], ['B', 'x', '1'], ['B', 'x', '2'], ['B', 'x', '3'], ['B', 'x', '4'], ['B', 'x', '5'], ['B', 'y', '1'], ['B', 'y', '2'], ['B', 'y', '3'], ['B', 'y', '4'], ['B', 'y', '5'], ['C', 'x', '1'], ['C', 'x', '2'], ['C', 'x', '3'], ['C', 'x', '4'], ['C', 'x', '5'], ['C', 'y', '1'], ['C', 'y', '2'], ['C', 'y', '3'], ['C', 'y', '4'], ['C', 'y', '5'], ['D', 'x', '1'], ['D', 'x', '2'], ['D', 'x', '3'], ['D', 'x', '4'], ['D', 'x', '5'], ['D', 'y', '1'], ['D', 'y', '2'], ['D', 'y', '3'], ['D', 'y', '4'], ['D', 'y', '5']]\n",
      "=====prod==== [['A', 'x', '1'], ['A', 'x', '2'], ['A', 'x', '3'], ['A', 'x', '4'], ['A', 'x', '5'], ['A', 'y', '1'], ['A', 'y', '2'], ['A', 'y', '3'], ['A', 'y', '4'], ['A', 'y', '5'], ['B', 'x', '1'], ['B', 'x', '2'], ['B', 'x', '3'], ['B', 'x', '4'], ['B', 'x', '5'], ['B', 'y', '1'], ['B', 'y', '2'], ['B', 'y', '3'], ['B', 'y', '4'], ['B', 'y', '5'], ['C', 'x', '1'], ['C', 'x', '2'], ['C', 'x', '3'], ['C', 'x', '4'], ['C', 'x', '5'], ['C', 'y', '1'], ['C', 'y', '2'], ['C', 'y', '3'], ['C', 'y', '4'], ['C', 'y', '5'], ['D', 'x', '1'], ['D', 'x', '2'], ['D', 'x', '3'], ['D', 'x', '4'], ['D', 'x', '5'], ['D', 'y', '1'], ['D', 'y', '2'], ['D', 'y', '3'], ['D', 'y', '4'], ['D', 'y', '5']]\n",
      "=====prod==== [['A', 'x', '1'], ['A', 'x', '2'], ['A', 'x', '3'], ['A', 'x', '4'], ['A', 'x', '5'], ['A', 'y', '1'], ['A', 'y', '2'], ['A', 'y', '3'], ['A', 'y', '4'], ['A', 'y', '5'], ['B', 'x', '1'], ['B', 'x', '2'], ['B', 'x', '3'], ['B', 'x', '4'], ['B', 'x', '5'], ['B', 'y', '1'], ['B', 'y', '2'], ['B', 'y', '3'], ['B', 'y', '4'], ['B', 'y', '5'], ['C', 'x', '1'], ['C', 'x', '2'], ['C', 'x', '3'], ['C', 'x', '4'], ['C', 'x', '5'], ['C', 'y', '1'], ['C', 'y', '2'], ['C', 'y', '3'], ['C', 'y', '4'], ['C', 'y', '5'], ['D', 'x', '1'], ['D', 'x', '2'], ['D', 'x', '3'], ['D', 'x', '4'], ['D', 'x', '5'], ['D', 'y', '1'], ['D', 'y', '2'], ['D', 'y', '3'], ['D', 'y', '4'], ['D', 'y', '5']]\n",
      "=====prod==== [['A', 'x', '1'], ['A', 'x', '2'], ['A', 'x', '3'], ['A', 'x', '4'], ['A', 'x', '5'], ['A', 'y', '1'], ['A', 'y', '2'], ['A', 'y', '3'], ['A', 'y', '4'], ['A', 'y', '5'], ['B', 'x', '1'], ['B', 'x', '2'], ['B', 'x', '3'], ['B', 'x', '4'], ['B', 'x', '5'], ['B', 'y', '1'], ['B', 'y', '2'], ['B', 'y', '3'], ['B', 'y', '4'], ['B', 'y', '5'], ['C', 'x', '1'], ['C', 'x', '2'], ['C', 'x', '3'], ['C', 'x', '4'], ['C', 'x', '5'], ['C', 'y', '1'], ['C', 'y', '2'], ['C', 'y', '3'], ['C', 'y', '4'], ['C', 'y', '5'], ['D', 'x', '1'], ['D', 'x', '2'], ['D', 'x', '3'], ['D', 'x', '4'], ['D', 'x', '5'], ['D', 'y', '1'], ['D', 'y', '2'], ['D', 'y', '3'], ['D', 'y', '4'], ['D', 'y', '5']]\n",
      "=====prod==== [['A', 'x', '1'], ['A', 'x', '2'], ['A', 'x', '3'], ['A', 'x', '4'], ['A', 'x', '5'], ['A', 'y', '1'], ['A', 'y', '2'], ['A', 'y', '3'], ['A', 'y', '4'], ['A', 'y', '5'], ['B', 'x', '1'], ['B', 'x', '2'], ['B', 'x', '3'], ['B', 'x', '4'], ['B', 'x', '5'], ['B', 'y', '1'], ['B', 'y', '2'], ['B', 'y', '3'], ['B', 'y', '4'], ['B', 'y', '5'], ['C', 'x', '1'], ['C', 'x', '2'], ['C', 'x', '3'], ['C', 'x', '4'], ['C', 'x', '5'], ['C', 'y', '1'], ['C', 'y', '2'], ['C', 'y', '3'], ['C', 'y', '4'], ['C', 'y', '5'], ['D', 'x', '1'], ['D', 'x', '2'], ['D', 'x', '3'], ['D', 'x', '4'], ['D', 'x', '5'], ['D', 'y', '1'], ['D', 'y', '2'], ['D', 'y', '3'], ['D', 'y', '4'], ['D', 'y', '5']]\n",
      "=====prod==== [['A', 'x', '1'], ['A', 'x', '2'], ['A', 'x', '3'], ['A', 'x', '4'], ['A', 'x', '5'], ['A', 'y', '1'], ['A', 'y', '2'], ['A', 'y', '3'], ['A', 'y', '4'], ['A', 'y', '5'], ['B', 'x', '1'], ['B', 'x', '2'], ['B', 'x', '3'], ['B', 'x', '4'], ['B', 'x', '5'], ['B', 'y', '1'], ['B', 'y', '2'], ['B', 'y', '3'], ['B', 'y', '4'], ['B', 'y', '5'], ['C', 'x', '1'], ['C', 'x', '2'], ['C', 'x', '3'], ['C', 'x', '4'], ['C', 'x', '5'], ['C', 'y', '1'], ['C', 'y', '2'], ['C', 'y', '3'], ['C', 'y', '4'], ['C', 'y', '5'], ['D', 'x', '1'], ['D', 'x', '2'], ['D', 'x', '3'], ['D', 'x', '4'], ['D', 'x', '5'], ['D', 'y', '1'], ['D', 'y', '2'], ['D', 'y', '3'], ['D', 'y', '4'], ['D', 'y', '5']]\n",
      "=====prod==== [['A', 'x', '1'], ['A', 'x', '2'], ['A', 'x', '3'], ['A', 'x', '4'], ['A', 'x', '5'], ['A', 'y', '1'], ['A', 'y', '2'], ['A', 'y', '3'], ['A', 'y', '4'], ['A', 'y', '5'], ['B', 'x', '1'], ['B', 'x', '2'], ['B', 'x', '3'], ['B', 'x', '4'], ['B', 'x', '5'], ['B', 'y', '1'], ['B', 'y', '2'], ['B', 'y', '3'], ['B', 'y', '4'], ['B', 'y', '5'], ['C', 'x', '1'], ['C', 'x', '2'], ['C', 'x', '3'], ['C', 'x', '4'], ['C', 'x', '5'], ['C', 'y', '1'], ['C', 'y', '2'], ['C', 'y', '3'], ['C', 'y', '4'], ['C', 'y', '5'], ['D', 'x', '1'], ['D', 'x', '2'], ['D', 'x', '3'], ['D', 'x', '4'], ['D', 'x', '5'], ['D', 'y', '1'], ['D', 'y', '2'], ['D', 'y', '3'], ['D', 'y', '4'], ['D', 'y', '5']]\n",
      "=====prod==== [['A', 'x', '1'], ['A', 'x', '2'], ['A', 'x', '3'], ['A', 'x', '4'], ['A', 'x', '5'], ['A', 'y', '1'], ['A', 'y', '2'], ['A', 'y', '3'], ['A', 'y', '4'], ['A', 'y', '5'], ['B', 'x', '1'], ['B', 'x', '2'], ['B', 'x', '3'], ['B', 'x', '4'], ['B', 'x', '5'], ['B', 'y', '1'], ['B', 'y', '2'], ['B', 'y', '3'], ['B', 'y', '4'], ['B', 'y', '5'], ['C', 'x', '1'], ['C', 'x', '2'], ['C', 'x', '3'], ['C', 'x', '4'], ['C', 'x', '5'], ['C', 'y', '1'], ['C', 'y', '2'], ['C', 'y', '3'], ['C', 'y', '4'], ['C', 'y', '5'], ['D', 'x', '1'], ['D', 'x', '2'], ['D', 'x', '3'], ['D', 'x', '4'], ['D', 'x', '5'], ['D', 'y', '1'], ['D', 'y', '2'], ['D', 'y', '3'], ['D', 'y', '4'], ['D', 'y', '5']]\n",
      "=====prod==== [['A', 'x', '1'], ['A', 'x', '2'], ['A', 'x', '3'], ['A', 'x', '4'], ['A', 'x', '5'], ['A', 'y', '1'], ['A', 'y', '2'], ['A', 'y', '3'], ['A', 'y', '4'], ['A', 'y', '5'], ['B', 'x', '1'], ['B', 'x', '2'], ['B', 'x', '3'], ['B', 'x', '4'], ['B', 'x', '5'], ['B', 'y', '1'], ['B', 'y', '2'], ['B', 'y', '3'], ['B', 'y', '4'], ['B', 'y', '5'], ['C', 'x', '1'], ['C', 'x', '2'], ['C', 'x', '3'], ['C', 'x', '4'], ['C', 'x', '5'], ['C', 'y', '1'], ['C', 'y', '2'], ['C', 'y', '3'], ['C', 'y', '4'], ['C', 'y', '5'], ['D', 'x', '1'], ['D', 'x', '2'], ['D', 'x', '3'], ['D', 'x', '4'], ['D', 'x', '5'], ['D', 'y', '1'], ['D', 'y', '2'], ['D', 'y', '3'], ['D', 'y', '4'], ['D', 'y', '5']]\n",
      "=====prod==== [['A', 'x', '1'], ['A', 'x', '2'], ['A', 'x', '3'], ['A', 'x', '4'], ['A', 'x', '5'], ['A', 'y', '1'], ['A', 'y', '2'], ['A', 'y', '3'], ['A', 'y', '4'], ['A', 'y', '5'], ['B', 'x', '1'], ['B', 'x', '2'], ['B', 'x', '3'], ['B', 'x', '4'], ['B', 'x', '5'], ['B', 'y', '1'], ['B', 'y', '2'], ['B', 'y', '3'], ['B', 'y', '4'], ['B', 'y', '5'], ['C', 'x', '1'], ['C', 'x', '2'], ['C', 'x', '3'], ['C', 'x', '4'], ['C', 'x', '5'], ['C', 'y', '1'], ['C', 'y', '2'], ['C', 'y', '3'], ['C', 'y', '4'], ['C', 'y', '5'], ['D', 'x', '1'], ['D', 'x', '2'], ['D', 'x', '3'], ['D', 'x', '4'], ['D', 'x', '5'], ['D', 'y', '1'], ['D', 'y', '2'], ['D', 'y', '3'], ['D', 'y', '4'], ['D', 'y', '5']]\n",
      "=====prod==== [['A', 'x', '1'], ['A', 'x', '2'], ['A', 'x', '3'], ['A', 'x', '4'], ['A', 'x', '5'], ['A', 'y', '1'], ['A', 'y', '2'], ['A', 'y', '3'], ['A', 'y', '4'], ['A', 'y', '5'], ['B', 'x', '1'], ['B', 'x', '2'], ['B', 'x', '3'], ['B', 'x', '4'], ['B', 'x', '5'], ['B', 'y', '1'], ['B', 'y', '2'], ['B', 'y', '3'], ['B', 'y', '4'], ['B', 'y', '5'], ['C', 'x', '1'], ['C', 'x', '2'], ['C', 'x', '3'], ['C', 'x', '4'], ['C', 'x', '5'], ['C', 'y', '1'], ['C', 'y', '2'], ['C', 'y', '3'], ['C', 'y', '4'], ['C', 'y', '5'], ['D', 'x', '1'], ['D', 'x', '2'], ['D', 'x', '3'], ['D', 'x', '4'], ['D', 'x', '5'], ['D', 'y', '1'], ['D', 'y', '2'], ['D', 'y', '3'], ['D', 'y', '4'], ['D', 'y', '5']]\n",
      "=====prod==== [['A', 'x', '1'], ['A', 'x', '2'], ['A', 'x', '3'], ['A', 'x', '4'], ['A', 'x', '5'], ['A', 'y', '1'], ['A', 'y', '2'], ['A', 'y', '3'], ['A', 'y', '4'], ['A', 'y', '5'], ['B', 'x', '1'], ['B', 'x', '2'], ['B', 'x', '3'], ['B', 'x', '4'], ['B', 'x', '5'], ['B', 'y', '1'], ['B', 'y', '2'], ['B', 'y', '3'], ['B', 'y', '4'], ['B', 'y', '5'], ['C', 'x', '1'], ['C', 'x', '2'], ['C', 'x', '3'], ['C', 'x', '4'], ['C', 'x', '5'], ['C', 'y', '1'], ['C', 'y', '2'], ['C', 'y', '3'], ['C', 'y', '4'], ['C', 'y', '5'], ['D', 'x', '1'], ['D', 'x', '2'], ['D', 'x', '3'], ['D', 'x', '4'], ['D', 'x', '5'], ['D', 'y', '1'], ['D', 'y', '2'], ['D', 'y', '3'], ['D', 'y', '4'], ['D', 'y', '5']]\n",
      "=====prod==== [['A', 'x', '1'], ['A', 'x', '2'], ['A', 'x', '3'], ['A', 'x', '4'], ['A', 'x', '5'], ['A', 'y', '1'], ['A', 'y', '2'], ['A', 'y', '3'], ['A', 'y', '4'], ['A', 'y', '5'], ['B', 'x', '1'], ['B', 'x', '2'], ['B', 'x', '3'], ['B', 'x', '4'], ['B', 'x', '5'], ['B', 'y', '1'], ['B', 'y', '2'], ['B', 'y', '3'], ['B', 'y', '4'], ['B', 'y', '5'], ['C', 'x', '1'], ['C', 'x', '2'], ['C', 'x', '3'], ['C', 'x', '4'], ['C', 'x', '5'], ['C', 'y', '1'], ['C', 'y', '2'], ['C', 'y', '3'], ['C', 'y', '4'], ['C', 'y', '5'], ['D', 'x', '1'], ['D', 'x', '2'], ['D', 'x', '3'], ['D', 'x', '4'], ['D', 'x', '5'], ['D', 'y', '1'], ['D', 'y', '2'], ['D', 'y', '3'], ['D', 'y', '4'], ['D', 'y', '5']]\n",
      "=====prod==== [['A', 'x', '1'], ['A', 'x', '2'], ['A', 'x', '3'], ['A', 'x', '4'], ['A', 'x', '5'], ['A', 'y', '1'], ['A', 'y', '2'], ['A', 'y', '3'], ['A', 'y', '4'], ['A', 'y', '5'], ['B', 'x', '1'], ['B', 'x', '2'], ['B', 'x', '3'], ['B', 'x', '4'], ['B', 'x', '5'], ['B', 'y', '1'], ['B', 'y', '2'], ['B', 'y', '3'], ['B', 'y', '4'], ['B', 'y', '5'], ['C', 'x', '1'], ['C', 'x', '2'], ['C', 'x', '3'], ['C', 'x', '4'], ['C', 'x', '5'], ['C', 'y', '1'], ['C', 'y', '2'], ['C', 'y', '3'], ['C', 'y', '4'], ['C', 'y', '5'], ['D', 'x', '1'], ['D', 'x', '2'], ['D', 'x', '3'], ['D', 'x', '4'], ['D', 'x', '5'], ['D', 'y', '1'], ['D', 'y', '2'], ['D', 'y', '3'], ['D', 'y', '4'], ['D', 'y', '5']]\n",
      "=====prod==== [['A', 'x', '1'], ['A', 'x', '2'], ['A', 'x', '3'], ['A', 'x', '4'], ['A', 'x', '5'], ['A', 'y', '1'], ['A', 'y', '2'], ['A', 'y', '3'], ['A', 'y', '4'], ['A', 'y', '5'], ['B', 'x', '1'], ['B', 'x', '2'], ['B', 'x', '3'], ['B', 'x', '4'], ['B', 'x', '5'], ['B', 'y', '1'], ['B', 'y', '2'], ['B', 'y', '3'], ['B', 'y', '4'], ['B', 'y', '5'], ['C', 'x', '1'], ['C', 'x', '2'], ['C', 'x', '3'], ['C', 'x', '4'], ['C', 'x', '5'], ['C', 'y', '1'], ['C', 'y', '2'], ['C', 'y', '3'], ['C', 'y', '4'], ['C', 'y', '5'], ['D', 'x', '1'], ['D', 'x', '2'], ['D', 'x', '3'], ['D', 'x', '4'], ['D', 'x', '5'], ['D', 'y', '1'], ['D', 'y', '2'], ['D', 'y', '3'], ['D', 'y', '4'], ['D', 'y', '5']]\n"
     ]
    },
    {
     "data": {
      "text/plain": [
       "[('A', 'x', '1'),\n",
       " ('A', 'x', '2'),\n",
       " ('A', 'x', '3'),\n",
       " ('A', 'x', '4'),\n",
       " ('A', 'x', '5'),\n",
       " ('A', 'y', '1'),\n",
       " ('A', 'y', '2'),\n",
       " ('A', 'y', '3'),\n",
       " ('A', 'y', '4'),\n",
       " ('A', 'y', '5'),\n",
       " ('B', 'x', '1'),\n",
       " ('B', 'x', '2'),\n",
       " ('B', 'x', '3'),\n",
       " ('B', 'x', '4'),\n",
       " ('B', 'x', '5'),\n",
       " ('B', 'y', '1'),\n",
       " ('B', 'y', '2'),\n",
       " ('B', 'y', '3'),\n",
       " ('B', 'y', '4'),\n",
       " ('B', 'y', '5'),\n",
       " ('C', 'x', '1'),\n",
       " ('C', 'x', '2'),\n",
       " ('C', 'x', '3'),\n",
       " ('C', 'x', '4'),\n",
       " ('C', 'x', '5'),\n",
       " ('C', 'y', '1'),\n",
       " ('C', 'y', '2'),\n",
       " ('C', 'y', '3'),\n",
       " ('C', 'y', '4'),\n",
       " ('C', 'y', '5'),\n",
       " ('D', 'x', '1'),\n",
       " ('D', 'x', '2'),\n",
       " ('D', 'x', '3'),\n",
       " ('D', 'x', '4'),\n",
       " ('D', 'x', '5'),\n",
       " ('D', 'y', '1'),\n",
       " ('D', 'y', '2'),\n",
       " ('D', 'y', '3'),\n",
       " ('D', 'y', '4'),\n",
       " ('D', 'y', '5')]"
      ]
     },
     "execution_count": 59,
     "metadata": {},
     "output_type": "execute_result"
    }
   ],
   "source": [
    "def product(*args, repeat=1):\n",
    "    # product('ABCD', 'xy') --> Ax Ay Bx By Cx Cy Dx Dy\n",
    "    # product(range(2), repeat=3) --> 000 001 010 011 100 101 110 111\n",
    "    pools = [tuple(pool) for pool in args] * repeat\n",
    "    print('=====pools====', pools)\n",
    "    result = [[]]\n",
    "    for pool in pools:\n",
    "        print('=====pool====', pool)\n",
    "        result = [x+[y] for x in result for y in pool]\n",
    "        print('=====result====', result)\n",
    "    for prod in result:\n",
    "        print('=====prod====', result)\n",
    "        yield tuple(prod)\n",
    "#mylisty = ('ABCD', 'xy', '12345')\n",
    "list(product('ABCD', 'xy', '12345'))"
   ]
  },
  {
   "cell_type": "code",
   "execution_count": 6,
   "metadata": {},
   "outputs": [
    {
     "name": "stdin",
     "output_type": "stream",
     "text": [
      "Enter K and M values:  2 100\n"
     ]
    },
    {
     "name": "stdout",
     "output_type": "stream",
     "text": [
      "<map object at 0x7fec85a43450>\n"
     ]
    }
   ],
   "source": [
    "2 5 4\n",
    "3 7 8 9 \n",
    "5 5 7 8 9 10 "
   ]
  },
  {
   "cell_type": "code",
   "execution_count": 12,
   "metadata": {},
   "outputs": [
    {
     "name": "stdout",
     "output_type": "stream",
     "text": [
      "[66]\n"
     ]
    }
   ],
   "source": [
    "x = [66,1,4,3,6,55]\n",
    "list1 = [x.pop(x.index(max(x)))]\n",
    "print(list1)"
   ]
  },
  {
   "cell_type": "code",
   "execution_count": 19,
   "metadata": {},
   "outputs": [],
   "source": [
    "def my_min(*ar):\n",
    "    return min(ar)"
   ]
  },
  {
   "cell_type": "code",
   "execution_count": 20,
   "metadata": {},
   "outputs": [
    {
     "name": "stdout",
     "output_type": "stream",
     "text": [
      "-5\n"
     ]
    }
   ],
   "source": [
    "print(my_min(-3,3,5,-5))"
   ]
  },
  {
   "cell_type": "code",
   "execution_count": 33,
   "metadata": {},
   "outputs": [
    {
     "name": "stdin",
     "output_type": "stream",
     "text": [
      "Enter K and M values:  3 1000\n",
      "input list values:  2 5 4\n",
      "input list values:  3 7 8 9 \n",
      "input list values:  5 5 7 8 9 10 \n"
     ]
    },
    {
     "name": "stdout",
     "output_type": "stream",
     "text": [
      "====>  [(5, 7, 5), (5, 7, 7), (5, 7, 8), (5, 7, 9), (5, 7, 10), (5, 8, 5), (5, 8, 7), (5, 8, 8), (5, 8, 9), (5, 8, 10), (5, 9, 5), (5, 9, 7), (5, 9, 8), (5, 9, 9), (5, 9, 10), (4, 7, 5), (4, 7, 7), (4, 7, 8), (4, 7, 9), (4, 7, 10), (4, 8, 5), (4, 8, 7), (4, 8, 8), (4, 8, 9), (4, 8, 10), (4, 9, 5), (4, 9, 7), (4, 9, 8), (4, 9, 9), (4, 9, 10)]\n",
      "++++++++>  (5, 7, 5) ++++++++>  4 ++++++++>  99\n",
      "++++++++>  (5, 7, 7) ++++++++>  4 ++++++++>  123\n",
      "++++++++>  (5, 7, 8) ++++++++>  4 ++++++++>  138\n",
      "++++++++>  (5, 7, 9) ++++++++>  4 ++++++++>  155\n",
      "++++++++>  (5, 7, 10) ++++++++>  4 ++++++++>  174\n",
      "++++++++>  (5, 8, 5) ++++++++>  4 ++++++++>  114\n",
      "++++++++>  (5, 8, 7) ++++++++>  4 ++++++++>  138\n",
      "++++++++>  (5, 8, 8) ++++++++>  4 ++++++++>  153\n",
      "++++++++>  (5, 8, 9) ++++++++>  4 ++++++++>  170\n",
      "++++++++>  (5, 8, 10) ++++++++>  4 ++++++++>  189\n",
      "++++++++>  (5, 9, 5) ++++++++>  4 ++++++++>  131\n",
      "++++++++>  (5, 9, 7) ++++++++>  4 ++++++++>  155\n",
      "++++++++>  (5, 9, 8) ++++++++>  4 ++++++++>  170\n",
      "++++++++>  (5, 9, 9) ++++++++>  4 ++++++++>  187\n",
      "++++++++>  (5, 9, 10) ++++++++>  4 ++++++++>  206\n",
      "++++++++>  (4, 7, 5) ++++++++>  4 ++++++++>  90\n",
      "++++++++>  (4, 7, 7) ++++++++>  4 ++++++++>  114\n",
      "++++++++>  (4, 7, 8) ++++++++>  4 ++++++++>  129\n",
      "++++++++>  (4, 7, 9) ++++++++>  4 ++++++++>  146\n",
      "++++++++>  (4, 7, 10) ++++++++>  4 ++++++++>  165\n",
      "++++++++>  (4, 8, 5) ++++++++>  4 ++++++++>  105\n",
      "++++++++>  (4, 8, 7) ++++++++>  4 ++++++++>  129\n",
      "++++++++>  (4, 8, 8) ++++++++>  4 ++++++++>  144\n",
      "++++++++>  (4, 8, 9) ++++++++>  4 ++++++++>  161\n",
      "++++++++>  (4, 8, 10) ++++++++>  4 ++++++++>  180\n",
      "++++++++>  (4, 9, 5) ++++++++>  4 ++++++++>  122\n",
      "++++++++>  (4, 9, 7) ++++++++>  4 ++++++++>  146\n",
      "++++++++>  (4, 9, 8) ++++++++>  4 ++++++++>  161\n",
      "++++++++>  (4, 9, 9) ++++++++>  4 ++++++++>  178\n",
      "++++++++>  (4, 9, 10) ++++++++>  4 ++++++++>  197\n",
      "206\n"
     ]
    }
   ],
   "source": [
    "from itertools import product\n",
    "\n",
    "credentials = input('Enter K and M values: ').split()\n",
    "lists  = []\n",
    "crd = list(map(int,credentials))\n",
    "for i in range(crd[0]):\n",
    "    lst = input('input list values: ').split()\n",
    "    lst_i = list(map(int,lst))\n",
    "    lists.append(lst_i[1:])\n",
    "    \n",
    "\n",
    "cartesien = list(product(*lists))\n",
    "print('====> ', cartesien)\n",
    "def func(nums):\n",
    "    print('++++++++> ', nums,'++++++++> ', x, '++++++++> ', sum(x*x for x in nums) % crd[1])\n",
    "    return sum(x*x for x in nums) % crd[1]\n",
    "print(max(list(map(func, cartesien))))"
   ]
  },
  {
   "cell_type": "code",
   "execution_count": 75,
   "metadata": {},
   "outputs": [
    {
     "name": "stdout",
     "output_type": "stream",
     "text": [
      "3\n",
      "1\n",
      "3\n"
     ]
    }
   ],
   "source": [
    "def most_freq(given_list):\n",
    "    regulated = {}\n",
    "    for i in given_list:\n",
    "        regulated[i] = given_list.count(i)\n",
    "    val_max = max(regulated.values())    \n",
    "    for key, val in regulated.items():  \n",
    "        if val == val_max:\n",
    "            return key\n",
    "print(most_freq([1,2,3,3,3,3,4,4,5,5])) \n",
    "\n",
    "print(most_freq([1,1,2,3,3])) \n",
    "\n",
    "print(most_freq([3,1,2,1,3])) "
   ]
  },
  {
   "cell_type": "code",
   "execution_count": 80,
   "metadata": {},
   "outputs": [
    {
     "name": "stdout",
     "output_type": "stream",
     "text": [
      "3\n",
      "1\n",
      "3\n"
     ]
    }
   ],
   "source": [
    "def most_freq(given_list):\n",
    "    key = max(given_list, key=given_list.count)\n",
    "    return key\n",
    "\n",
    "print(most_freq([1,2,3,3,3,3,4,4,5,5])) \n",
    "\n",
    "print(most_freq([1,1,2,3,3])) \n",
    "\n",
    "print(most_freq([3,1,2,1,3])) "
   ]
  },
  {
   "cell_type": "code",
   "execution_count": null,
   "metadata": {},
   "outputs": [],
   "source": []
  }
 ],
 "metadata": {
  "kernelspec": {
   "display_name": "Python 3",
   "language": "python",
   "name": "python3"
  },
  "language_info": {
   "codemirror_mode": {
    "name": "ipython",
    "version": 3
   },
   "file_extension": ".py",
   "mimetype": "text/x-python",
   "name": "python",
   "nbconvert_exporter": "python",
   "pygments_lexer": "ipython3",
   "version": "3.7.6"
  }
 },
 "nbformat": 4,
 "nbformat_minor": 4
}
